{
 "cells": [
  {
   "cell_type": "code",
   "execution_count": null,
   "id": "5041fa96-dbfc-4a77-9984-f747b1059254",
   "metadata": {},
   "outputs": [],
   "source": [
    "import sys\n",
    "sys.path.append(\"..\")"
   ]
  },
  {
   "cell_type": "markdown",
   "id": "8ff9f4aa-2a9e-4a51-84b0-75b15c3698da",
   "metadata": {},
   "source": [
    "## Arguments"
   ]
  },
  {
   "cell_type": "code",
   "execution_count": null,
   "id": "e70dbee4-83a2-4819-a58f-e8e08b06c11a",
   "metadata": {},
   "outputs": [],
   "source": [
    "DATASET = \"ML100K\"\n",
    "SETTING_PATH = \"../setting/HE_FM.yaml\""
   ]
  },
  {
   "cell_type": "markdown",
   "id": "a8d49258-2db4-463c-9c95-d341bbb9852a",
   "metadata": {},
   "source": [
    "## Hyper Parameter Setting"
   ]
  },
  {
   "cell_type": "code",
   "execution_count": null,
   "id": "06f14413-1304-40b4-9dc7-8948813f7c5e",
   "metadata": {},
   "outputs": [],
   "source": [
    "from herec.utils import hyParamLoader\n",
    "\n",
    "hyParamSettings = hyParamLoader(SETTING_PATH)\n",
    "hyParam = hyParamSettings[0]\n",
    "hyParam"
   ]
  },
  {
   "cell_type": "markdown",
   "id": "03dced0f-a86f-4e8f-bd56-dfe5fdf9731b",
   "metadata": {},
   "source": [
    "## Dataset"
   ]
  },
  {
   "cell_type": "code",
   "execution_count": null,
   "id": "ae1215c0-bb2c-4da7-a0c8-5a7ad3d1b1fb",
   "metadata": {},
   "outputs": [],
   "source": [
    "from herec.reader import *\n",
    "\n",
    "if DATASET == \"ML100K\":\n",
    "    reader = ML100K()\n",
    "elif DATASET == \"ML1M\":\n",
    "    reader = ML1M()\n",
    "elif DATASET == \"ML10M\":\n",
    "    reader = ML10M()\n",
    "elif DATASET == \"ML25M\":\n",
    "    reader = ML25M()\n",
    "else:\n",
    "    raise Exception(\"Invalid DATASET NAME\")"
   ]
  },
  {
   "cell_type": "markdown",
   "id": "dae31d12-0265-48d1-8323-ab96b68bebda",
   "metadata": {},
   "source": [
    "## Training"
   ]
  },
  {
   "cell_type": "code",
   "execution_count": null,
   "id": "f3413721-56fc-44dc-a7af-3a0f25d58f7e",
   "metadata": {},
   "outputs": [],
   "source": [
    "# Define Model\n",
    "from herec.model import HE_FM\n",
    "model = HE_FM(\n",
    "    user_num=reader.user_num,\n",
    "    item_num=reader.item_num,\n",
    "    embedDim=hyParam.pop(\"embedDim\"),\n",
    "    clusterNums=hyParam.pop(\"clusterNums\"),\n",
    ")\n",
    "\n",
    "# Define DataLoader for Mini-batch Optimization\n",
    "from herec.loader import ratingLoader\n",
    "\n",
    "# Train\n",
    "from herec.trainer import ratingTrainer\n",
    "trainer = ratingTrainer(model=model, dataLoader=ratingLoader, **hyParam)\n",
    "trainer.fit(reader.df_SUBSET[\"TRAIN\"], reader.df_SUBSET[\"VALID\"])"
   ]
  }
 ],
 "metadata": {
  "kernelspec": {
   "display_name": "Python 3 (ipykernel)",
   "language": "python",
   "name": "python3"
  },
  "language_info": {
   "codemirror_mode": {
    "name": "ipython",
    "version": 3
   },
   "file_extension": ".py",
   "mimetype": "text/x-python",
   "name": "python",
   "nbconvert_exporter": "python",
   "pygments_lexer": "ipython3",
   "version": "3.10.12"
  }
 },
 "nbformat": 4,
 "nbformat_minor": 5
}
