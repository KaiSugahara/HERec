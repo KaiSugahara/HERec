{
 "cells": [
  {
   "cell_type": "code",
   "execution_count": null,
   "id": "5041fa96-dbfc-4a77-9984-f747b1059254",
   "metadata": {},
   "outputs": [],
   "source": [
    "import sys\n",
    "import mlflow\n",
    "from dotenv import load_dotenv\n",
    "import optuna\n",
    "\n",
    "sys.path.append(\"..\")\n",
    "from herec.reader import *\n",
    "from herec.utils import hyParamSuggester"
   ]
  },
  {
   "cell_type": "markdown",
   "id": "8ff9f4aa-2a9e-4a51-84b0-75b15c3698da",
   "metadata": {},
   "source": [
    "## Arguments"
   ]
  },
  {
   "cell_type": "code",
   "execution_count": null,
   "id": "e70dbee4-83a2-4819-a58f-e8e08b06c11a",
   "metadata": {},
   "outputs": [],
   "source": [
    "MODEL = \"HE_FM\"\n",
    "DATASET = \"ML100K\"\n",
    "SETTING_PATH = f\"../setting/{MODEL}.yaml\""
   ]
  },
  {
   "cell_type": "markdown",
   "id": "5a6a200f-17c5-478d-bd35-314c3c748852",
   "metadata": {},
   "source": [
    "## Dataset"
   ]
  },
  {
   "cell_type": "code",
   "execution_count": null,
   "id": "2c1a6ba9-7e86-4f77-8825-7a2836f7333a",
   "metadata": {},
   "outputs": [],
   "source": [
    "if DATASET == \"ML100K\":\n",
    "    reader = ML100K()\n",
    "elif DATASET == \"ML1M\":\n",
    "    reader = ML1M()\n",
    "elif DATASET == \"ML10M\":\n",
    "    reader = ML10M()\n",
    "elif DATASET == \"ML25M\":\n",
    "    reader = ML25M()\n",
    "else:\n",
    "    raise Exception(\"Invalid DATASET NAME\")"
   ]
  },
  {
   "cell_type": "markdown",
   "id": "710caa48-971b-40c4-8e0d-b480faf45d98",
   "metadata": {},
   "source": [
    "## Setup MLFlow"
   ]
  },
  {
   "cell_type": "code",
   "execution_count": null,
   "id": "a6c73858-d6de-4d0a-a94a-e06a53b0acea",
   "metadata": {},
   "outputs": [],
   "source": [
    "load_dotenv(\"../.env\")\n",
    "\n",
    "EXPERIMENT_NAME = f\"HeRec-{MODEL}-{DATASET}\"\n",
    "if (experiment := mlflow.get_experiment_by_name(EXPERIMENT_NAME)) is None:\n",
    "    experiment_id = mlflow.create_experiment(name=EXPERIMENT_NAME)\n",
    "else:\n",
    "    experiment_id = experiment.experiment_id\n",
    "\n",
    "print(\"実験名:\", EXPERIMENT_NAME)\n",
    "print(\"実験ID:\", experiment_id)"
   ]
  },
  {
   "cell_type": "markdown",
   "id": "25a21fce-4cbf-4825-a0c4-6a0d92083c3b",
   "metadata": {},
   "source": [
    "## Training"
   ]
  },
  {
   "cell_type": "code",
   "execution_count": null,
   "id": "7e243a54-ca27-4ee3-bc58-434914aa91cf",
   "metadata": {},
   "outputs": [],
   "source": [
    "# Def. Hyper-parameter Suggester\n",
    "suggester = hyParamSuggester(SETTING_PATH)\n",
    "\n",
    "# Def. DataLoader\n",
    "from herec.loader import ratingLoader as targetLoader\n",
    "\n",
    "# Def. Trainer\n",
    "from herec.trainer import ratingTrainer as targetTrainer"
   ]
  },
  {
   "cell_type": "code",
   "execution_count": null,
   "id": "041f7dee-8fd6-4db1-81b0-b11c6e32bca4",
   "metadata": {
    "scrolled": true
   },
   "outputs": [],
   "source": [
    "def objective(trial, seed):\n",
    "\n",
    "    with mlflow.start_run(experiment_id=experiment_id) as run:\n",
    "\n",
    "        # Get Hyper-parameter Setting\n",
    "        hyparam = suggester.suggest_hyparam(trial)\n",
    "\n",
    "        # Set Trainer Seed same as Sampler Seed\n",
    "        hyparam[\"trainer\"][\"seed\"] = seed\n",
    "\n",
    "        # Save Hyper-parameter to MLFlow\n",
    "        mlflow.log_params(hyparam[\"model\"])\n",
    "        mlflow.log_params(hyparam[\"trainer\"])\n",
    "        mlflow.log_dict(hyparam, \"params.json\")\n",
    "    \n",
    "        # Define Model\n",
    "        if MODEL == \"HE_FM\":\n",
    "            from herec.model import HE_FM\n",
    "            model = HE_FM(\n",
    "                user_num=reader.user_num,\n",
    "                item_num=reader.item_num,\n",
    "                clusterNums=[hyparam[\"model\"].pop(\"clusterNums\")],\n",
    "                **hyparam[\"model\"]\n",
    "            )\n",
    "\n",
    "        # Train\n",
    "        trainer = targetTrainer(model=model, dataLoader=targetLoader, run=run, ckpt_dir=\"../checkpoint/\", verbose=1, **hyparam[\"trainer\"])\n",
    "        trainer.fit(reader.df_SUBSET[\"TRAIN\"], reader.df_SUBSET[\"VALID\"])\n",
    "        trainer.clear_cache()\n",
    "    \n",
    "        # Get Best Validation Loss\n",
    "        best_valid_loss = trainer.score( trainer.get_best_params(), reader.df_SUBSET[\"VALID\"] )\n",
    "\n",
    "        # Save Best Valid. Loss to MLFlow\n",
    "        mlflow.log_metric(\"BEST_VALID_LOSS\", best_valid_loss)\n",
    "\n",
    "        # Get Test Loss\n",
    "        test_loss = trainer.score( trainer.get_best_params(), reader.df_SUBSET[\"TEST\"] )\n",
    "\n",
    "        # Save Test Loss to MLFlow\n",
    "        mlflow.log_metric(\"TEST_LOSS\", test_loss)\n",
    "\n",
    "    return best_valid_loss\n",
    "\n",
    "# TPE\n",
    "seed = 0\n",
    "study = optuna.create_study( sampler=optuna.samplers.TPESampler(seed=seed) )\n",
    "study.optimize(lambda trial: objective(trial, seed), n_trials=100)"
   ]
  }
 ],
 "metadata": {
  "kernelspec": {
   "display_name": "Python 3 (ipykernel)",
   "language": "python",
   "name": "python3"
  },
  "language_info": {
   "codemirror_mode": {
    "name": "ipython",
    "version": 3
   },
   "file_extension": ".py",
   "mimetype": "text/x-python",
   "name": "python",
   "nbconvert_exporter": "python",
   "pygments_lexer": "ipython3",
   "version": "3.8.10"
  }
 },
 "nbformat": 4,
 "nbformat_minor": 5
}
