{
 "cells": [
  {
   "cell_type": "code",
   "execution_count": null,
   "id": "5041fa96-dbfc-4a77-9984-f747b1059254",
   "metadata": {},
   "outputs": [],
   "source": [
    "import sys\n",
    "sys.path.append(\"..\")"
   ]
  },
  {
   "cell_type": "markdown",
   "id": "fb2d79c5-5eae-4ab2-9d16-503addb42b2a",
   "metadata": {},
   "source": [
    "## Arguments"
   ]
  },
  {
   "cell_type": "code",
   "execution_count": null,
   "id": "8f108754-63d9-4551-ad82-d375658f1a35",
   "metadata": {},
   "outputs": [],
   "source": [
    "DATASET = \"DIGINETICA\""
   ]
  },
  {
   "cell_type": "markdown",
   "id": "50f0149f-0145-41d6-a46a-cf26d5eb6f33",
   "metadata": {},
   "source": [
    "## Training"
   ]
  },
  {
   "cell_type": "code",
   "execution_count": null,
   "id": "58aeb395-4f3a-4b33-85fc-92838930c216",
   "metadata": {},
   "outputs": [],
   "source": [
    "# Read Dataset\n",
    "from herec.reader import *\n",
    "\n",
    "if DATASET == \"DIGINETICA\":\n",
    "    reader = DIGINETICA()\n",
    "elif DATASET == \"AMAZON_M2\":\n",
    "    reader = AMAZON_M2()\n",
    "else:\n",
    "    raise Exception(\"Invalid DATASET NAME\")"
   ]
  },
  {
   "cell_type": "code",
   "execution_count": null,
   "id": "f3413721-56fc-44dc-a7af-3a0f25d58f7e",
   "metadata": {},
   "outputs": [],
   "source": [
    "# Define Model\n",
    "from herec.model import HE_GRU4Rec\n",
    "model = HE_GRU4Rec( item_num=reader.item_num, embedDim=10, GRU_LAYER_SIZES=[100], FF_LAYER_SIZES=[100], clusterNums=[100] )\n",
    "\n",
    "# Define DataLoader for Mini-batch Optimization\n",
    "from herec.loader import sessionLoader\n",
    "\n",
    "# Train\n",
    "from herec.trainer import sessionTrainer\n",
    "trainer = sessionTrainer(model=model, dataLoader=sessionLoader, epoch_nums=10, batch_size=128)\n",
    "trainer.fit(reader.df_SUBSET[\"TRAIN\"], reader.df_SUBSET[\"VALID\"])"
   ]
  }
 ],
 "metadata": {
  "kernelspec": {
   "display_name": "Python 3 (ipykernel)",
   "language": "python",
   "name": "python3"
  },
  "language_info": {
   "codemirror_mode": {
    "name": "ipython",
    "version": 3
   },
   "file_extension": ".py",
   "mimetype": "text/x-python",
   "name": "python",
   "nbconvert_exporter": "python",
   "pygments_lexer": "ipython3",
   "version": "3.10.12"
  }
 },
 "nbformat": 4,
 "nbformat_minor": 5
}
