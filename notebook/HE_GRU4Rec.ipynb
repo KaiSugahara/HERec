{
 "cells": [
  {
   "cell_type": "code",
   "execution_count": null,
   "id": "5041fa96-dbfc-4a77-9984-f747b1059254",
   "metadata": {},
   "outputs": [],
   "source": [
    "import sys\n",
    "sys.path.append(\"..\")"
   ]
  },
  {
   "cell_type": "markdown",
   "id": "fb2d79c5-5eae-4ab2-9d16-503addb42b2a",
   "metadata": {},
   "source": [
    "## Arguments"
   ]
  },
  {
   "cell_type": "code",
   "execution_count": null,
   "id": "8f108754-63d9-4551-ad82-d375658f1a35",
   "metadata": {},
   "outputs": [],
   "source": [
    "DATASET = \"DIGINETICA\"\n",
    "SETTING_PATH = \"../setting/HE_GRU4Rec.yaml\""
   ]
  },
  {
   "cell_type": "markdown",
   "id": "dd4d9edb-66aa-4ea4-8ec4-18350ae9310c",
   "metadata": {},
   "source": [
    "## Hyper Parameter Setting"
   ]
  },
  {
   "cell_type": "code",
   "execution_count": null,
   "id": "518abb89-e41a-4bbf-bc9f-ea57711217ee",
   "metadata": {},
   "outputs": [],
   "source": [
    "from herec.utils import hyParamLoader\n",
    "\n",
    "hyParamSettings = hyParamLoader(SETTING_PATH)\n",
    "hyParam = hyParamSettings[0]\n",
    "hyParam"
   ]
  },
  {
   "cell_type": "markdown",
   "id": "01f779fe-1b07-47b9-88ef-7e55724082b3",
   "metadata": {},
   "source": [
    "## Dataset"
   ]
  },
  {
   "cell_type": "code",
   "execution_count": null,
   "id": "ae1215c0-bb2c-4da7-a0c8-5a7ad3d1b1fb",
   "metadata": {},
   "outputs": [],
   "source": [
    "from herec.reader import *\n",
    "\n",
    "if DATASET == \"DIGINETICA\":\n",
    "    reader = DIGINETICA()\n",
    "elif DATASET == \"AMAZON_M2\":\n",
    "    reader = AMAZON_M2()\n",
    "else:\n",
    "    raise Exception(\"Invalid DATASET NAME\")"
   ]
  },
  {
   "cell_type": "markdown",
   "id": "50f0149f-0145-41d6-a46a-cf26d5eb6f33",
   "metadata": {},
   "source": [
    "## Training"
   ]
  },
  {
   "cell_type": "code",
   "execution_count": null,
   "id": "f3413721-56fc-44dc-a7af-3a0f25d58f7e",
   "metadata": {},
   "outputs": [],
   "source": [
    "# Define Model\n",
    "from herec.model import HE_GRU4Rec\n",
    "model = HE_GRU4Rec(\n",
    "    item_num=reader.item_num,\n",
    "    embedDim=hyParam.pop(\"embedDim\"),\n",
    "    GRU_LAYER_SIZES=hyParam.pop(\"GRU_LAYER_SIZES\"),\n",
    "    FF_LAYER_SIZES=hyParam.pop(\"FF_LAYER_SIZES\"),\n",
    "    clusterNums=hyParam.pop(\"clusterNums\"),\n",
    ")\n",
    "\n",
    "# Define DataLoader for Mini-batch Optimization\n",
    "from herec.loader import sessionLoader\n",
    "\n",
    "# Train\n",
    "from herec.trainer import sessionTrainer\n",
    "trainer = sessionTrainer(model=model, dataLoader=sessionLoader, **hyParam)\n",
    "trainer.fit(reader.df_SUBSET[\"TRAIN\"], reader.df_SUBSET[\"VALID\"])"
   ]
  }
 ],
 "metadata": {
  "kernelspec": {
   "display_name": "Python 3 (ipykernel)",
   "language": "python",
   "name": "python3"
  },
  "language_info": {
   "codemirror_mode": {
    "name": "ipython",
    "version": 3
   },
   "file_extension": ".py",
   "mimetype": "text/x-python",
   "name": "python",
   "nbconvert_exporter": "python",
   "pygments_lexer": "ipython3",
   "version": "3.10.12"
  }
 },
 "nbformat": 4,
 "nbformat_minor": 5
}
