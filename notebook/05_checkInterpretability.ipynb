{
 "cells": [
  {
   "cell_type": "code",
   "execution_count": 1,
   "id": "969eba09-204d-43dd-9dd6-843a377cf942",
   "metadata": {},
   "outputs": [
    {
     "name": "stderr",
     "output_type": "stream",
     "text": [
      "WARNING:absl:Tensorflow library not found, tensorflow.io.gfile operations will use native shim calls. GCS paths (i.e. 'gs://...') cannot be accessed.\n"
     ]
    }
   ],
   "source": [
    "import os\n",
    "import shutil\n",
    "import mlflow\n",
    "from glob import glob\n",
    "from tqdm import tqdm\n",
    "import numpy as np\n",
    "import pandas as pd\n",
    "import polars as pl\n",
    "import re\n",
    "import matplotlib\n",
    "import matplotlib.pyplot as plt\n",
    "plt.style.use('tableau-colorblind10')\n",
    "from IPython.display import display\n",
    "from scipy import stats\n",
    "\n",
    "from dotenv import load_dotenv\n",
    "load_dotenv(\"../.env\")\n",
    "\n",
    "import jax\n",
    "import jax.numpy as jnp\n",
    "\n",
    "import sys\n",
    "sys.path.append(\"..\")\n",
    "from herec.utils import *\n",
    "from herec.loader import *\n",
    "from herec.reader import *\n",
    "from herec.model import *"
   ]
  },
  {
   "cell_type": "markdown",
   "id": "4282dbea-0a5a-4323-b84d-3707a443549e",
   "metadata": {},
   "source": [
    "# ML1M_IMPLICT （アイテムの深さ2）"
   ]
  },
  {
   "cell_type": "code",
   "execution_count": 2,
   "id": "392a9bd1-ea3e-441a-8c55-d0c239cfcf81",
   "metadata": {},
   "outputs": [
    {
     "name": "stdout",
     "output_type": "stream",
     "text": [
      "[19]\n"
     ]
    },
    {
     "name": "stderr",
     "output_type": "stream",
     "text": [
      "/home/sugahara/.local/lib/python3.8/site-packages/tqdm/auto.py:21: TqdmWarning: IProgress not found. Please update jupyter and ipywidgets. See https://ipywidgets.readthedocs.io/en/stable/user_install.html\n",
      "  from .autonotebook import tqdm as notebook_tqdm\n",
      "Downloading artifacts: 100%|██████████| 1/1 [00:00<00:00,  5.87it/s]\n"
     ]
    }
   ],
   "source": [
    "## Restore\n",
    "\n",
    "run_id = \"4e3539a9ee7f42f2a7d18ae64ddb4f80\"\n",
    "params = jax.device_put(restoreModelParams(run_id))\n",
    "hyparams = restoreHyperParams(run_id)\n",
    "t = hyparams[\"model\"][\"temperature\"]\n",
    "\n",
    "userConnectionMatrix = jax.nn.softmax(params[\"userEmbedder\"][\"connectionMatrix_1\"] / t)\n",
    "itemConnectionMatrix = jax.nn.softmax(params[\"itemEmbedder\"][\"connectionMatrix_1\"] / t) @ jax.nn.softmax(params[\"itemEmbedder\"][\"connectionMatrix_2\"] / t)\n",
    "userRootMatrix = params[\"userEmbedder\"][\"rootMatrix\"]\n",
    "itemRootMatrix = params[\"itemEmbedder\"][\"rootMatrix\"]\n",
    "\n",
    "userEmbedMatrix = userConnectionMatrix @ userRootMatrix\n",
    "itemEmbedMatrix = itemConnectionMatrix @ itemRootMatrix\n",
    "\n",
    "clusterToCluster = userRootMatrix @ itemRootMatrix.T"
   ]
  },
  {
   "cell_type": "code",
   "execution_count": 3,
   "id": "7082bb4a-9d45-4643-9e00-0a8976bd8990",
   "metadata": {},
   "outputs": [],
   "source": [
    "## READ\n",
    "\n",
    "DATA = ML1M_IMPLICIT().get(0, \"test\")\n",
    "userIdMap, itemIdMap = DATA[\"user_id_map\"], DATA[\"item_id_map\"]\n",
    "\n",
    "with open(f\"{getRepositoryPath()}/dataset/ML1M/ml-1m/users.dat\") as f:\n",
    "    lines = f.readlines()\n",
    "userAttriibute = pl.DataFrame([line.replace(\"\\n\", \"\").split(\"::\") for line in lines], schema=[\"userId\", \"gender\", \"age\", \"occupation\", \"zipCode\"], orient=\"row\")\n",
    "userAttriibute = userAttriibute.with_columns( pl.col(\"userId\", \"age\", \"occupation\").cast(int) )\n",
    "userAttriibute = userAttriibute.filter( pl.col(\"userId\").is_in(userIdMap.keys()) ).with_columns( pl.col(\"userId\").replace(userIdMap, default=None) ) # FoldのUserIDに揃える\n",
    "userAttriibute = userAttriibute.with_columns( pl.col(\"userId\").replace( dict(zip(range(userConnectionMatrix.shape[0]), userConnectionMatrix.argmax(axis=1).tolist())), default=None ).alias(\"userClusterId\") ) # ClusterIdに変換\n",
    "userAttriibute = userAttriibute.with_columns(\n",
    "    pl.col(\"gender\").replace({\"M\": \"Man\", \"F\": \"Female\",}),\n",
    "    pl.col(\"age\").replace({\n",
    "        1: \"Under 18\",\n",
    "        18: \"18-24\",\n",
    "        25: \"25-34\",\n",
    "        35: \"35-44\",\n",
    "        45: \"45-49\",\n",
    "        50: \"50-55\",\n",
    "        56: \"56+\",\n",
    "    }),\n",
    "    pl.col(\"occupation\").replace({\n",
    "        0: \"other or not specified\",\n",
    "        1: \"academic/educator\",\n",
    "        2: \"artist\",\n",
    "        3: \"clerical/admin\",\n",
    "        4: \"college/grad student\",\n",
    "        5: \"customer service\",\n",
    "        6: \"doctor/health care\",\n",
    "        7: \"executive/managerial\",\n",
    "        8: \"farmer\",\n",
    "        9: \"homemaker\",\n",
    "        10: \"K-12 student\",\n",
    "        11: \"lawyer\",\n",
    "        12: \"programmer\",\n",
    "        13: \"retired\",\n",
    "        14: \"sales/marketing\",\n",
    "        15: \"scientist\",\n",
    "        16: \"self-employed\",\n",
    "        17: \"technician/engineer\",\n",
    "        18: \"tradesman/craftsman\",\n",
    "        19: \"unemployed\",\n",
    "        20: \"writer\",\n",
    "    }),\n",
    ")\n",
    "\n",
    "with open(f\"{getRepositoryPath()}/dataset/ML1M/ml-1m/movies.dat\", encoding='latin1') as f:\n",
    "    lines = f.readlines()\n",
    "itemAttriibute = pl.DataFrame([line.replace(\"\\n\", \"\").split(\"::\") for line in lines], schema=[\"itemId\", \"title\", \"genres\"], orient=\"row\")\n",
    "itemAttriibute = itemAttriibute.with_columns( pl.col(\"itemId\").cast(int), pl.col(\"genres\").str.split(\"|\") )\n",
    "itemAttriibute = itemAttriibute.filter( pl.col(\"itemId\").is_in(itemIdMap.keys()) ).with_columns( pl.col(\"itemId\").replace(itemIdMap, default=None) ) # FoldのItemIDに揃える\n",
    "itemAttriibute = itemAttriibute.with_columns( pl.col(\"itemId\").replace( dict(zip(range(itemConnectionMatrix.shape[0]), itemConnectionMatrix.argmax(axis=1).tolist())), default=None ).alias(\"itemClusterId\") ) # ClusterIdに変換"
   ]
  },
  {
   "cell_type": "code",
   "execution_count": 4,
   "id": "d0fdc929-6e3d-43f6-9013-4610af7e4953",
   "metadata": {},
   "outputs": [],
   "source": [
    "def count(values):\n",
    "\n",
    "    if values.dtype == pl.List:\n",
    "        values = values.explode().value_counts().with_columns( pl.col(\"count\") / values.shape[0] ).sort(\"count\", descending=True).head(3)\n",
    "    else:\n",
    "        values = values.value_counts().with_columns( pl.col(\"count\") / values.shape[0] ).sort(\"count\", descending=True).head(3)\n",
    "    \n",
    "    for key, val in values.rows():\n",
    "        print( key, rf\"({round(val*100, 1)}\\%)\", end=\", \" )\n",
    "    print()"
   ]
  },
  {
   "cell_type": "markdown",
   "id": "3fbd4858-392b-4c82-a2d2-f3473f9325ae",
   "metadata": {},
   "source": [
    "## 男/女はどのようなアイテムクラスタを視聴しているか？ "
   ]
  },
  {
   "cell_type": "code",
   "execution_count": 5,
   "id": "8e11966f-4e5e-4d77-9a30-adcd28de5f09",
   "metadata": {},
   "outputs": [
    {
     "name": "stdout",
     "output_type": "stream",
     "text": [
      "shape: (396, 2)\n",
      "┌───────────────┬────────┐\n",
      "│ userClusterId ┆ is_man │\n",
      "│ ---           ┆ ---    │\n",
      "│ i64           ┆ f64    │\n",
      "╞═══════════════╪════════╡\n",
      "│ 557           ┆ 0.0    │\n",
      "│ 301           ┆ 0.0    │\n",
      "│ 480           ┆ 0.0    │\n",
      "│ 93            ┆ 0.0    │\n",
      "│ …             ┆ …      │\n",
      "│ 110           ┆ 1.0    │\n",
      "│ 238           ┆ 1.0    │\n",
      "│ 524           ┆ 1.0    │\n",
      "│ 387           ┆ 1.0    │\n",
      "└───────────────┴────────┘\n"
     ]
    }
   ],
   "source": [
    "# is_MAN?\n",
    "print( userAttriibute.select( \"userClusterId\", (pl.col(\"gender\") == \"Man\").cast(int).alias(\"is_man\") ).group_by(\"userClusterId\").mean().sort(\"is_man\") )"
   ]
  },
  {
   "cell_type": "code",
   "execution_count": 6,
   "id": "bbe5d18c-973b-4a7d-8bf2-e7512a55aeaf",
   "metadata": {},
   "outputs": [
    {
     "name": "stdout",
     "output_type": "stream",
     "text": [
      "shape: (2, 6)\n",
      "┌────────┬────────┬───────┬─────────────────┬─────────┬───────────────┐\n",
      "│ userId ┆ gender ┆ age   ┆ occupation      ┆ zipCode ┆ userClusterId │\n",
      "│ ---    ┆ ---    ┆ ---   ┆ ---             ┆ ---     ┆ ---           │\n",
      "│ i64    ┆ str    ┆ str   ┆ str             ┆ str     ┆ i64           │\n",
      "╞════════╪════════╪═══════╪═════════════════╪═════════╪═══════════════╡\n",
      "│ 4956   ┆ Man    ┆ 25-34 ┆ writer          ┆ 98105   ┆ 524           │\n",
      "│ 3088   ┆ Man    ┆ 18-24 ┆ sales/marketing ┆ 48185   ┆ 524           │\n",
      "└────────┴────────┴───────┴─────────────────┴─────────┴───────────────┘\n",
      "Man (100.0\\%), \n",
      "18-24 (50.0\\%), 25-34 (50.0\\%), \n",
      "sales/marketing (50.0\\%), writer (50.0\\%), \n",
      "\n",
      "******************************\n",
      "\n",
      "[203 296 271]\n",
      "Drama (75.7\\%), Comedy (28.4\\%), Romance (20.3\\%), \n",
      "66.6\n",
      "Drama (62.4\\%), Comedy (37.8\\%), Romance (20.8\\%), \n",
      "117.8\n",
      "\n",
      "52.5\n",
      "\n",
      "******************************\n",
      "\n",
      "[ 66 160   3]\n",
      "Adventure (66.7\\%), Children's (33.3\\%), Fantasy (33.3\\%), \n",
      "12.5\n",
      "Action (50.0\\%), Horror (25.0\\%), Thriller (25.0\\%), \n",
      "20.4\n",
      "Action (33.6\\%), Comedy (24.0\\%), Sci-Fi (23.6\\%), \n",
      "129.3\n"
     ]
    }
   ],
   "source": [
    "\"\"\"\n",
    "    Man\n",
    "\"\"\"\n",
    "\n",
    "userId = 524\n",
    "\n",
    "# 対象ユーザクラスタの中身\n",
    "print( d := userAttriibute.filter( pl.col(\"userClusterId\") == userId ) )\n",
    "count(d[\"gender\"])\n",
    "count(d[\"age\"])\n",
    "count(d[\"occupation\"])\n",
    "\n",
    "print(\"\\n******************************\\n\")\n",
    "\n",
    "# 嗜好 Top-5 アイテムクラスタ\n",
    "print(ids := clusterToCluster[userId].argsort()[-3:][::-1])\n",
    "for id in ids:\n",
    "    values = itemAttriibute.filter( pl.col(\"itemClusterId\") == id ).get_column(\"genres\")\n",
    "    count(values)\n",
    "    print(itemConnectionMatrix[:, id].sum().round(1))\n",
    "\n",
    "print(\"\\n******************************\\n\")\n",
    "\n",
    "# 嗜好 Worst-5 アイテムクラスタ\n",
    "print(ids := clusterToCluster[userId].argsort()[:3][::-1])\n",
    "for id in ids:\n",
    "    values = itemAttriibute.filter( pl.col(\"itemClusterId\") == id ).get_column(\"genres\")\n",
    "    count(values)\n",
    "    print(itemConnectionMatrix[:, id].sum().round(1))"
   ]
  },
  {
   "cell_type": "code",
   "execution_count": 7,
   "id": "804d36de-2d72-45b0-9807-d0223cebdfa3",
   "metadata": {},
   "outputs": [
    {
     "name": "stdout",
     "output_type": "stream",
     "text": [
      "shape: (1, 6)\n",
      "┌────────┬────────┬───────┬───────────────────┬─────────┬───────────────┐\n",
      "│ userId ┆ gender ┆ age   ┆ occupation        ┆ zipCode ┆ userClusterId │\n",
      "│ ---    ┆ ---    ┆ ---   ┆ ---               ┆ ---     ┆ ---           │\n",
      "│ i64    ┆ str    ┆ str   ┆ str               ┆ str     ┆ i64           │\n",
      "╞════════╪════════╪═══════╪═══════════════════╪═════════╪═══════════════╡\n",
      "│ 541    ┆ Female ┆ 50-55 ┆ academic/educator ┆ 62901   ┆ 557           │\n",
      "└────────┴────────┴───────┴───────────────────┴─────────┴───────────────┘\n",
      "Female (100.0\\%), \n",
      "50-55 (100.0\\%), \n",
      "academic/educator (100.0\\%), \n",
      "\n",
      "******************************\n",
      "\n",
      "[203 271 296]\n",
      "Drama (75.7\\%), Comedy (28.4\\%), Romance (20.3\\%), \n",
      "66.6\n",
      "\n",
      "52.5\n",
      "Drama (62.4\\%), Comedy (37.8\\%), Romance (20.8\\%), \n",
      "117.8\n",
      "\n",
      "******************************\n",
      "\n",
      "[ 66 150 160]\n",
      "Adventure (66.7\\%), Action (33.3\\%), Fantasy (33.3\\%), \n",
      "12.5\n",
      "Comedy (35.9\\%), Action (32.8\\%), Children's (17.2\\%), \n",
      "26.4\n",
      "Action (50.0\\%), Horror (25.0\\%), Sci-Fi (25.0\\%), \n",
      "20.4\n"
     ]
    }
   ],
   "source": [
    "\"\"\"\n",
    "    Female\n",
    "\"\"\"\n",
    "\n",
    "userId = 557\n",
    "\n",
    "# 対象ユーザクラスタの中身\n",
    "print( d := userAttriibute.filter( pl.col(\"userClusterId\") == userId ) )\n",
    "count(d[\"gender\"])\n",
    "count(d[\"age\"])\n",
    "count(d[\"occupation\"])\n",
    "\n",
    "print(\"\\n******************************\\n\")\n",
    "\n",
    "# 嗜好 Top-5 アイテムクラスタ\n",
    "print(ids := clusterToCluster[userId].argsort()[-3:][::-1])\n",
    "for id in ids:\n",
    "    values = itemAttriibute.filter( pl.col(\"itemClusterId\") == id ).get_column(\"genres\")\n",
    "    count(values)\n",
    "    print(itemConnectionMatrix[:, id].sum().round(1))\n",
    "\n",
    "print(\"\\n******************************\\n\")\n",
    "\n",
    "# 嗜好 Worst-5 アイテムクラスタ\n",
    "print(ids := clusterToCluster[userId].argsort()[:3][::-1])\n",
    "for id in ids:\n",
    "    values = itemAttriibute.filter( pl.col(\"itemClusterId\") == id ).get_column(\"genres\")\n",
    "    count(values)\n",
    "    print(itemConnectionMatrix[:, id].sum().round(1))"
   ]
  },
  {
   "cell_type": "markdown",
   "id": "d228c5c3-beb0-4553-9d22-1ec1ebf92c5e",
   "metadata": {},
   "source": [
    "## 特定の職種はどのようなアイテムクラスタを視聴しているか？ "
   ]
  },
  {
   "cell_type": "code",
   "execution_count": 8,
   "id": "f96e8f41-2da9-4a3b-b6dd-d8d317d381fc",
   "metadata": {},
   "outputs": [
    {
     "name": "stdout",
     "output_type": "stream",
     "text": [
      "shape: (396, 2)\n",
      "┌───────────────┬────────┐\n",
      "│ userClusterId ┆ is_man │\n",
      "│ ---           ┆ ---    │\n",
      "│ i64           ┆ f64    │\n",
      "╞═══════════════╪════════╡\n",
      "│ 527           ┆ 0.0    │\n",
      "│ 6             ┆ 0.0    │\n",
      "│ 530           ┆ 0.0    │\n",
      "│ 274           ┆ 0.0    │\n",
      "│ …             ┆ …      │\n",
      "│ 348           ┆ 0.5    │\n",
      "│ 27            ┆ 1.0    │\n",
      "│ 246           ┆ 1.0    │\n",
      "│ 74            ┆ 1.0    │\n",
      "└───────────────┴────────┘\n"
     ]
    }
   ],
   "source": [
    "# is programmer?\n",
    "print( userAttriibute.select( \"userClusterId\", (pl.col(\"occupation\") == \"programmer\").cast(int).alias(\"is_man\") ).group_by(\"userClusterId\").mean().sort(\"is_man\") )"
   ]
  },
  {
   "cell_type": "code",
   "execution_count": 9,
   "id": "fa46ba4d-415e-494c-b048-b7cfed94a77a",
   "metadata": {},
   "outputs": [
    {
     "name": "stdout",
     "output_type": "stream",
     "text": [
      "shape: (1, 6)\n",
      "┌────────┬────────┬───────┬────────────┬────────────┬───────────────┐\n",
      "│ userId ┆ gender ┆ age   ┆ occupation ┆ zipCode    ┆ userClusterId │\n",
      "│ ---    ┆ ---    ┆ ---   ┆ ---        ┆ ---        ┆ ---           │\n",
      "│ i64    ┆ str    ┆ str   ┆ str        ┆ str        ┆ i64           │\n",
      "╞════════╪════════╪═══════╪════════════╪════════════╪═══════════════╡\n",
      "│ 3853   ┆ Man    ┆ 25-34 ┆ programmer ┆ 27713-9225 ┆ 74            │\n",
      "└────────┴────────┴───────┴────────────┴────────────┴───────────────┘\n",
      "Man (100.0\\%), \n",
      "25-34 (100.0\\%), \n",
      "programmer (100.0\\%), \n",
      "\n",
      "******************************\n",
      "\n",
      "[178 138 251]\n",
      "Action (100.0\\%), Thriller (54.5\\%), Adventure (36.4\\%), \n",
      "37.2\n",
      "Action (57.4\\%), Thriller (39.3\\%), Comedy (24.6\\%), \n",
      "40.600002\n",
      "Action (87.8\\%), Thriller (53.7\\%), Adventure (31.7\\%), \n",
      "50.4\n",
      "\n",
      "******************************\n",
      "\n",
      "[314 311 203]\n",
      "\n",
      "7.0\n",
      "Drama (80.0\\%), Comedy (20.0\\%), Mystery (20.0\\%), \n",
      "13.2\n",
      "Drama (75.7\\%), Comedy (28.4\\%), Romance (20.3\\%), \n",
      "66.6\n"
     ]
    }
   ],
   "source": [
    "userId = 74\n",
    "\n",
    "# 対象ユーザクラスタの中身\n",
    "print( d := userAttriibute.filter( pl.col(\"userClusterId\") == userId ) )\n",
    "count(d[\"gender\"])\n",
    "count(d[\"age\"])\n",
    "count(d[\"occupation\"])\n",
    "\n",
    "print(\"\\n******************************\\n\")\n",
    "\n",
    "# 嗜好 Top-5 アイテムクラスタ\n",
    "print(ids := clusterToCluster[userId].argsort()[-3:][::-1])\n",
    "for id in ids:\n",
    "    values = itemAttriibute.filter( pl.col(\"itemClusterId\") == id ).get_column(\"genres\")\n",
    "    count(values)\n",
    "    print(itemConnectionMatrix[:, id].sum().round(1))\n",
    "\n",
    "print(\"\\n******************************\\n\")\n",
    "\n",
    "# 嗜好 Worst-5 アイテムクラスタ\n",
    "print(ids := clusterToCluster[userId].argsort()[:3][::-1])\n",
    "for id in ids:\n",
    "    values = itemAttriibute.filter( pl.col(\"itemClusterId\") == id ).get_column(\"genres\")\n",
    "    count(values)\n",
    "    print(itemConnectionMatrix[:, id].sum().round(1))"
   ]
  },
  {
   "cell_type": "code",
   "execution_count": 10,
   "id": "fbe7bc39-92aa-4b74-aacd-1717b5ee6296",
   "metadata": {},
   "outputs": [
    {
     "name": "stdout",
     "output_type": "stream",
     "text": [
      "shape: (396, 2)\n",
      "┌───────────────┬──────────┐\n",
      "│ userClusterId ┆ is_man   │\n",
      "│ ---           ┆ ---      │\n",
      "│ i64           ┆ f64      │\n",
      "╞═══════════════╪══════════╡\n",
      "│ 6             ┆ 0.0      │\n",
      "│ 530           ┆ 0.0      │\n",
      "│ 9             ┆ 0.0      │\n",
      "│ 143           ┆ 0.0      │\n",
      "│ …             ┆ …        │\n",
      "│ 169           ┆ 0.25     │\n",
      "│ 573           ┆ 0.285714 │\n",
      "│ 316           ┆ 0.5      │\n",
      "│ 238           ┆ 1.0      │\n",
      "└───────────────┴──────────┘\n"
     ]
    }
   ],
   "source": [
    "# is customer service?\n",
    "print( userAttriibute.select( \"userClusterId\", (pl.col(\"occupation\") == \"customer service\").cast(int).alias(\"is_man\") ).group_by(\"userClusterId\").mean().sort(\"is_man\") )"
   ]
  },
  {
   "cell_type": "code",
   "execution_count": 11,
   "id": "7295526b-bac3-4321-a79c-197112891c31",
   "metadata": {},
   "outputs": [
    {
     "name": "stdout",
     "output_type": "stream",
     "text": [
      "shape: (1, 6)\n",
      "┌────────┬────────┬───────┬──────────────────┬─────────┬───────────────┐\n",
      "│ userId ┆ gender ┆ age   ┆ occupation       ┆ zipCode ┆ userClusterId │\n",
      "│ ---    ┆ ---    ┆ ---   ┆ ---              ┆ ---     ┆ ---           │\n",
      "│ i64    ┆ str    ┆ str   ┆ str              ┆ str     ┆ i64           │\n",
      "╞════════╪════════╪═══════╪══════════════════╪═════════╪═══════════════╡\n",
      "│ 692    ┆ Man    ┆ 18-24 ┆ customer service ┆ 55414   ┆ 238           │\n",
      "└────────┴────────┴───────┴──────────────────┴─────────┴───────────────┘\n",
      "Man (100.0\\%), \n",
      "18-24 (100.0\\%), \n",
      "customer service (100.0\\%), \n",
      "\n",
      "******************************\n",
      "\n",
      "[240   3 178]\n",
      "Sci-Fi (100.0\\%), Action (50.0\\%), Drama (25.0\\%), \n",
      "49.4\n",
      "Action (33.6\\%), Comedy (24.0\\%), Sci-Fi (23.6\\%), \n",
      "129.3\n",
      "Action (100.0\\%), Thriller (54.5\\%), Adventure (36.4\\%), \n",
      "37.2\n",
      "\n",
      "******************************\n",
      "\n",
      "[314 311 203]\n",
      "\n",
      "7.0\n",
      "Drama (80.0\\%), Comedy (20.0\\%), Mystery (20.0\\%), \n",
      "13.2\n",
      "Drama (75.7\\%), Comedy (28.4\\%), Romance (20.3\\%), \n",
      "66.6\n"
     ]
    }
   ],
   "source": [
    "userId = 238\n",
    "\n",
    "# 対象ユーザクラスタの中身\n",
    "print( d := userAttriibute.filter( pl.col(\"userClusterId\") == userId ) )\n",
    "count(d[\"gender\"])\n",
    "count(d[\"age\"])\n",
    "count(d[\"occupation\"])\n",
    "\n",
    "print(\"\\n******************************\\n\")\n",
    "\n",
    "# 嗜好 Top-5 アイテムクラスタ\n",
    "print(ids := clusterToCluster[userId].argsort()[-3:][::-1])\n",
    "for id in ids:\n",
    "    values = itemAttriibute.filter( pl.col(\"itemClusterId\") == id ).get_column(\"genres\")\n",
    "    count(values)\n",
    "    print(itemConnectionMatrix[:, id].sum().round(1))\n",
    "\n",
    "print(\"\\n******************************\\n\")\n",
    "\n",
    "# 嗜好 Worst-5 アイテムクラスタ\n",
    "print(ids := clusterToCluster[userId].argsort()[:3][::-1])\n",
    "for id in ids:\n",
    "    values = itemAttriibute.filter( pl.col(\"itemClusterId\") == id ).get_column(\"genres\")\n",
    "    count(values)\n",
    "    print(itemConnectionMatrix[:, id].sum().round(1))"
   ]
  },
  {
   "cell_type": "markdown",
   "id": "9d652a4e-bd37-4a59-8a34-d0bf663c9be8",
   "metadata": {},
   "source": [
    "# ML1M_IMPLICT （アイテムの深さ1）"
   ]
  },
  {
   "cell_type": "code",
   "execution_count": 12,
   "id": "3432af1d-036a-4488-90fa-01f3c412322f",
   "metadata": {},
   "outputs": [
    {
     "name": "stdout",
     "output_type": "stream",
     "text": [
      "[19]\n"
     ]
    },
    {
     "name": "stderr",
     "output_type": "stream",
     "text": [
      "Downloading artifacts: 100%|██████████| 1/1 [00:00<00:00,  5.52it/s]\n"
     ]
    }
   ],
   "source": [
    "## Restore\n",
    "\n",
    "run_id = \"4e3539a9ee7f42f2a7d18ae64ddb4f80\"\n",
    "params = jax.device_put(restoreModelParams(run_id))\n",
    "hyparams = restoreHyperParams(run_id)\n",
    "t = hyparams[\"model\"][\"temperature\"]\n",
    "\n",
    "userConnectionMatrix = jax.nn.softmax(params[\"userEmbedder\"][\"connectionMatrix_1\"] / t)\n",
    "itemConnectionMatrix = jax.nn.softmax(params[\"itemEmbedder\"][\"connectionMatrix_1\"] / t)\n",
    "userRootMatrix = params[\"userEmbedder\"][\"rootMatrix\"]\n",
    "itemRootMatrix = jax.nn.softmax(params[\"itemEmbedder\"][\"connectionMatrix_2\"] / t) @ params[\"itemEmbedder\"][\"rootMatrix\"]\n",
    "\n",
    "userEmbedMatrix = userConnectionMatrix @ userRootMatrix\n",
    "itemEmbedMatrix = itemConnectionMatrix @ itemRootMatrix\n",
    "\n",
    "clusterToCluster = userRootMatrix @ itemRootMatrix.T"
   ]
  },
  {
   "cell_type": "code",
   "execution_count": 13,
   "id": "723b17d6-bd3a-4772-bb64-5ece312ecc81",
   "metadata": {},
   "outputs": [],
   "source": [
    "## READ\n",
    "\n",
    "DATA = ML1M_IMPLICIT().get(0, \"test\")\n",
    "userIdMap, itemIdMap = DATA[\"user_id_map\"], DATA[\"item_id_map\"]\n",
    "\n",
    "with open(f\"{getRepositoryPath()}/dataset/ML1M/ml-1m/users.dat\") as f:\n",
    "    lines = f.readlines()\n",
    "userAttriibute = pl.DataFrame([line.replace(\"\\n\", \"\").split(\"::\") for line in lines], schema=[\"userId\", \"gender\", \"age\", \"occupation\", \"zipCode\"], orient=\"row\")\n",
    "userAttriibute = userAttriibute.with_columns( pl.col(\"userId\", \"age\", \"occupation\").cast(int) )\n",
    "userAttriibute = userAttriibute.filter( pl.col(\"userId\").is_in(userIdMap.keys()) ).with_columns( pl.col(\"userId\").replace(userIdMap, default=None) ) # FoldのUserIDに揃える\n",
    "userAttriibute = userAttriibute.with_columns( pl.col(\"userId\").replace( dict(zip(range(userConnectionMatrix.shape[0]), userConnectionMatrix.argmax(axis=1).tolist())), default=None ).alias(\"userClusterId\") ) # ClusterIdに変換\n",
    "userAttriibute = userAttriibute.with_columns(\n",
    "    pl.col(\"gender\").replace({\"M\": \"Man\", \"F\": \"Female\",}),\n",
    "    pl.col(\"age\").replace({\n",
    "        1: \"Under 18\",\n",
    "        18: \"18-24\",\n",
    "        25: \"25-34\",\n",
    "        35: \"35-44\",\n",
    "        45: \"45-49\",\n",
    "        50: \"50-55\",\n",
    "        56: \"56+\",\n",
    "    }),\n",
    "    pl.col(\"occupation\").replace({\n",
    "        0: \"other or not specified\",\n",
    "        1: \"academic/educator\",\n",
    "        2: \"artist\",\n",
    "        3: \"clerical/admin\",\n",
    "        4: \"college/grad student\",\n",
    "        5: \"customer service\",\n",
    "        6: \"doctor/health care\",\n",
    "        7: \"executive/managerial\",\n",
    "        8: \"farmer\",\n",
    "        9: \"homemaker\",\n",
    "        10: \"K-12 student\",\n",
    "        11: \"lawyer\",\n",
    "        12: \"programmer\",\n",
    "        13: \"retired\",\n",
    "        14: \"sales/marketing\",\n",
    "        15: \"scientist\",\n",
    "        16: \"self-employed\",\n",
    "        17: \"technician/engineer\",\n",
    "        18: \"tradesman/craftsman\",\n",
    "        19: \"unemployed\",\n",
    "        20: \"writer\",\n",
    "    }),\n",
    ")\n",
    "\n",
    "with open(f\"{getRepositoryPath()}/dataset/ML1M/ml-1m/movies.dat\", encoding='latin1') as f:\n",
    "    lines = f.readlines()\n",
    "itemAttriibute = pl.DataFrame([line.replace(\"\\n\", \"\").split(\"::\") for line in lines], schema=[\"itemId\", \"title\", \"genres\"], orient=\"row\")\n",
    "itemAttriibute = itemAttriibute.with_columns( pl.col(\"itemId\").cast(int), pl.col(\"genres\").str.split(\"|\") )\n",
    "itemAttriibute = itemAttriibute.filter( pl.col(\"itemId\").is_in(itemIdMap.keys()) ).with_columns( pl.col(\"itemId\").replace(itemIdMap, default=None) ) # FoldのItemIDに揃える\n",
    "itemAttriibute = itemAttriibute.with_columns( pl.col(\"itemId\").replace( dict(zip(range(itemConnectionMatrix.shape[0]), itemConnectionMatrix.argmax(axis=1).tolist())), default=None ).alias(\"itemClusterId\") ) # ClusterIdに変換"
   ]
  },
  {
   "cell_type": "code",
   "execution_count": 14,
   "id": "5bfe653b-1f5b-4d0d-b0b2-be4e0da4e9cb",
   "metadata": {},
   "outputs": [],
   "source": [
    "def count(values):\n",
    "\n",
    "    if values.dtype == pl.List:\n",
    "        values = values.explode().value_counts().with_columns( pl.col(\"count\") / values.shape[0] ).sort(\"count\", descending=True).head(3)\n",
    "    else:\n",
    "        values = values.value_counts().with_columns( pl.col(\"count\") / values.shape[0] ).sort(\"count\", descending=True).head(3)\n",
    "    \n",
    "    for key, val in values.rows():\n",
    "        print( key, rf\"({round(val*100, 1)}\\%)\", end=\", \" )\n",
    "    print()"
   ]
  },
  {
   "cell_type": "markdown",
   "id": "331ce05d-4bd6-42d8-8502-9a5fde6edb6e",
   "metadata": {},
   "source": [
    "## 男/女はどのようなアイテムクラスタを視聴しているか？ "
   ]
  },
  {
   "cell_type": "code",
   "execution_count": 15,
   "id": "f5f89be3-35f3-4d53-b577-5d5a55fedaf8",
   "metadata": {},
   "outputs": [
    {
     "name": "stdout",
     "output_type": "stream",
     "text": [
      "shape: (396, 2)\n",
      "┌───────────────┬────────┐\n",
      "│ userClusterId ┆ is_man │\n",
      "│ ---           ┆ ---    │\n",
      "│ i64           ┆ f64    │\n",
      "╞═══════════════╪════════╡\n",
      "│ 301           ┆ 0.0    │\n",
      "│ 557           ┆ 0.0    │\n",
      "│ 93            ┆ 0.0    │\n",
      "│ 96            ┆ 0.0    │\n",
      "│ …             ┆ …      │\n",
      "│ 110           ┆ 1.0    │\n",
      "│ 244           ┆ 1.0    │\n",
      "│ 524           ┆ 1.0    │\n",
      "│ 387           ┆ 1.0    │\n",
      "└───────────────┴────────┘\n"
     ]
    }
   ],
   "source": [
    "# is_MAN?\n",
    "print( userAttriibute.select( \"userClusterId\", (pl.col(\"gender\") == \"Man\").cast(int).alias(\"is_man\") ).group_by(\"userClusterId\").mean().sort(\"is_man\") )"
   ]
  },
  {
   "cell_type": "code",
   "execution_count": 16,
   "id": "c792028d-9404-4156-b1d7-7229a89f7097",
   "metadata": {},
   "outputs": [
    {
     "name": "stdout",
     "output_type": "stream",
     "text": [
      "shape: (2, 6)\n",
      "┌────────┬────────┬───────┬─────────────────┬─────────┬───────────────┐\n",
      "│ userId ┆ gender ┆ age   ┆ occupation      ┆ zipCode ┆ userClusterId │\n",
      "│ ---    ┆ ---    ┆ ---   ┆ ---             ┆ ---     ┆ ---           │\n",
      "│ i64    ┆ str    ┆ str   ┆ str             ┆ str     ┆ i64           │\n",
      "╞════════╪════════╪═══════╪═════════════════╪═════════╪═══════════════╡\n",
      "│ 4956   ┆ Man    ┆ 25-34 ┆ writer          ┆ 98105   ┆ 524           │\n",
      "│ 3088   ┆ Man    ┆ 18-24 ┆ sales/marketing ┆ 48185   ┆ 524           │\n",
      "└────────┴────────┴───────┴─────────────────┴─────────┴───────────────┘\n",
      "Man (100.0\\%), \n",
      "18-24 (50.0\\%), 25-34 (50.0\\%), \n",
      "sales/marketing (50.0\\%), writer (50.0\\%), \n",
      "\n",
      "******************************\n",
      "\n",
      "[415 550 379]\n",
      "Drama (100.0\\%), \n",
      "4.6\n",
      "Comedy (100.0\\%), \n",
      "4.7000003\n",
      "Drama (100.0\\%), \n",
      "4.6\n",
      "\n",
      "******************************\n",
      "\n",
      "[398 223 574]\n",
      "\n",
      "3.7\n",
      "\n",
      "3.7\n",
      "Action (55.6\\%), War (44.4\\%), Sci-Fi (44.4\\%), \n",
      "3.7\n"
     ]
    }
   ],
   "source": [
    "\"\"\"\n",
    "    Man\n",
    "\"\"\"\n",
    "\n",
    "userId = 524\n",
    "\n",
    "# 対象ユーザクラスタの中身\n",
    "print( d := userAttriibute.filter( pl.col(\"userClusterId\") == userId ) )\n",
    "count(d[\"gender\"])\n",
    "count(d[\"age\"])\n",
    "count(d[\"occupation\"])\n",
    "\n",
    "print(\"\\n******************************\\n\")\n",
    "\n",
    "# 嗜好 Top-5 アイテムクラスタ\n",
    "print(ids := clusterToCluster[userId].argsort()[-3:][::-1])\n",
    "for id in ids:\n",
    "    values = itemAttriibute.filter( pl.col(\"itemClusterId\") == id ).get_column(\"genres\")\n",
    "    count(values)\n",
    "    print(itemConnectionMatrix[:, id].sum().round(1))\n",
    "\n",
    "print(\"\\n******************************\\n\")\n",
    "\n",
    "# 嗜好 Worst-5 アイテムクラスタ\n",
    "print(ids := clusterToCluster[userId].argsort()[:3][::-1])\n",
    "for id in ids:\n",
    "    values = itemAttriibute.filter( pl.col(\"itemClusterId\") == id ).get_column(\"genres\")\n",
    "    count(values)\n",
    "    print(itemConnectionMatrix[:, id].sum().round(1))"
   ]
  },
  {
   "cell_type": "code",
   "execution_count": 17,
   "id": "4e909235-aa8b-433e-b96c-b3efcc88aec9",
   "metadata": {},
   "outputs": [
    {
     "name": "stdout",
     "output_type": "stream",
     "text": [
      "shape: (1, 6)\n",
      "┌────────┬────────┬───────┬───────────────────┬─────────┬───────────────┐\n",
      "│ userId ┆ gender ┆ age   ┆ occupation        ┆ zipCode ┆ userClusterId │\n",
      "│ ---    ┆ ---    ┆ ---   ┆ ---               ┆ ---     ┆ ---           │\n",
      "│ i64    ┆ str    ┆ str   ┆ str               ┆ str     ┆ i64           │\n",
      "╞════════╪════════╪═══════╪═══════════════════╪═════════╪═══════════════╡\n",
      "│ 541    ┆ Female ┆ 50-55 ┆ academic/educator ┆ 62901   ┆ 557           │\n",
      "└────────┴────────┴───────┴───────────────────┴─────────┴───────────────┘\n",
      "Female (100.0\\%), \n",
      "50-55 (100.0\\%), \n",
      "academic/educator (100.0\\%), \n",
      "\n",
      "******************************\n",
      "\n",
      "[415 550 379]\n",
      "Drama (100.0\\%), \n",
      "4.6\n",
      "Comedy (100.0\\%), \n",
      "4.7000003\n",
      "Drama (100.0\\%), \n",
      "4.6\n",
      "\n",
      "******************************\n",
      "\n",
      "[307 470 128]\n",
      "Action (100.0\\%), Sci-Fi (33.3\\%), Drama (33.3\\%), \n",
      "4.8\n",
      "Action (100.0\\%), Adventure (100.0\\%), \n",
      "4.6\n",
      "Horror (66.7\\%), War (33.3\\%), Sci-Fi (33.3\\%), \n",
      "4.6\n"
     ]
    }
   ],
   "source": [
    "\"\"\"\n",
    "    Female\n",
    "\"\"\"\n",
    "\n",
    "userId = 557\n",
    "\n",
    "# 対象ユーザクラスタの中身\n",
    "print( d := userAttriibute.filter( pl.col(\"userClusterId\") == userId ) )\n",
    "count(d[\"gender\"])\n",
    "count(d[\"age\"])\n",
    "count(d[\"occupation\"])\n",
    "\n",
    "print(\"\\n******************************\\n\")\n",
    "\n",
    "# 嗜好 Top-5 アイテムクラスタ\n",
    "print(ids := clusterToCluster[userId].argsort()[-3:][::-1])\n",
    "for id in ids:\n",
    "    values = itemAttriibute.filter( pl.col(\"itemClusterId\") == id ).get_column(\"genres\")\n",
    "    count(values)\n",
    "    print(itemConnectionMatrix[:, id].sum().round(1))\n",
    "\n",
    "print(\"\\n******************************\\n\")\n",
    "\n",
    "# 嗜好 Worst-5 アイテムクラスタ\n",
    "print(ids := clusterToCluster[userId].argsort()[:3][::-1])\n",
    "for id in ids:\n",
    "    values = itemAttriibute.filter( pl.col(\"itemClusterId\") == id ).get_column(\"genres\")\n",
    "    count(values)\n",
    "    print(itemConnectionMatrix[:, id].sum().round(1))"
   ]
  },
  {
   "cell_type": "markdown",
   "id": "b030fa7e-3586-41fb-bba1-4df4a6e2cadc",
   "metadata": {},
   "source": [
    "## 特定の職種はどのようなアイテムクラスタを視聴しているか？ "
   ]
  },
  {
   "cell_type": "code",
   "execution_count": 18,
   "id": "a6e4625b-8182-4e9a-bfea-b811b9528eb8",
   "metadata": {},
   "outputs": [
    {
     "name": "stdout",
     "output_type": "stream",
     "text": [
      "shape: (396, 2)\n",
      "┌───────────────┬────────┐\n",
      "│ userClusterId ┆ is_man │\n",
      "│ ---           ┆ ---    │\n",
      "│ i64           ┆ f64    │\n",
      "╞═══════════════╪════════╡\n",
      "│ 143           ┆ 0.0    │\n",
      "│ 268           ┆ 0.0    │\n",
      "│ 271           ┆ 0.0    │\n",
      "│ 6             ┆ 0.0    │\n",
      "│ …             ┆ …      │\n",
      "│ 348           ┆ 0.5    │\n",
      "│ 27            ┆ 1.0    │\n",
      "│ 246           ┆ 1.0    │\n",
      "│ 74            ┆ 1.0    │\n",
      "└───────────────┴────────┘\n"
     ]
    }
   ],
   "source": [
    "# is programmer?\n",
    "print( userAttriibute.select( \"userClusterId\", (pl.col(\"occupation\") == \"programmer\").cast(int).alias(\"is_man\") ).group_by(\"userClusterId\").mean().sort(\"is_man\") )"
   ]
  },
  {
   "cell_type": "code",
   "execution_count": 19,
   "id": "3608ad3d-918b-4ffe-8230-ef41b3f136e7",
   "metadata": {},
   "outputs": [
    {
     "name": "stdout",
     "output_type": "stream",
     "text": [
      "shape: (1, 6)\n",
      "┌────────┬────────┬───────┬────────────┬────────────┬───────────────┐\n",
      "│ userId ┆ gender ┆ age   ┆ occupation ┆ zipCode    ┆ userClusterId │\n",
      "│ ---    ┆ ---    ┆ ---   ┆ ---        ┆ ---        ┆ ---           │\n",
      "│ i64    ┆ str    ┆ str   ┆ str        ┆ str        ┆ i64           │\n",
      "╞════════╪════════╪═══════╪════════════╪════════════╪═══════════════╡\n",
      "│ 3853   ┆ Man    ┆ 25-34 ┆ programmer ┆ 27713-9225 ┆ 74            │\n",
      "└────────┴────────┴───────┴────────────┴────────────┴───────────────┘\n",
      "Man (100.0\\%), \n",
      "25-34 (100.0\\%), \n",
      "programmer (100.0\\%), \n",
      "\n",
      "******************************\n",
      "\n",
      "[489 405 623]\n",
      "Sci-Fi (100.0\\%), Action (66.7\\%), Comedy (33.3\\%), \n",
      "3.5\n",
      "Comedy (100.0\\%), Western (100.0\\%), Action (100.0\\%), \n",
      "3.4\n",
      "Action (100.0\\%), Crime (100.0\\%), Comedy (100.0\\%), \n",
      "3.5\n",
      "\n",
      "******************************\n",
      "\n",
      "[379 550 415]\n",
      "Drama (100.0\\%), \n",
      "4.6\n",
      "Comedy (100.0\\%), \n",
      "4.7000003\n",
      "Drama (100.0\\%), \n",
      "4.6\n"
     ]
    }
   ],
   "source": [
    "userId = 74\n",
    "\n",
    "# 対象ユーザクラスタの中身\n",
    "print( d := userAttriibute.filter( pl.col(\"userClusterId\") == userId ) )\n",
    "count(d[\"gender\"])\n",
    "count(d[\"age\"])\n",
    "count(d[\"occupation\"])\n",
    "\n",
    "print(\"\\n******************************\\n\")\n",
    "\n",
    "# 嗜好 Top-5 アイテムクラスタ\n",
    "print(ids := clusterToCluster[userId].argsort()[-3:][::-1])\n",
    "for id in ids:\n",
    "    values = itemAttriibute.filter( pl.col(\"itemClusterId\") == id ).get_column(\"genres\")\n",
    "    count(values)\n",
    "    print(itemConnectionMatrix[:, id].sum().round(1))\n",
    "\n",
    "print(\"\\n******************************\\n\")\n",
    "\n",
    "# 嗜好 Worst-5 アイテムクラスタ\n",
    "print(ids := clusterToCluster[userId].argsort()[:3][::-1])\n",
    "for id in ids:\n",
    "    values = itemAttriibute.filter( pl.col(\"itemClusterId\") == id ).get_column(\"genres\")\n",
    "    count(values)\n",
    "    print(itemConnectionMatrix[:, id].sum().round(1))"
   ]
  },
  {
   "cell_type": "code",
   "execution_count": 20,
   "id": "a26c9702-e810-46e9-8ea7-bf963b7e01f0",
   "metadata": {},
   "outputs": [
    {
     "name": "stdout",
     "output_type": "stream",
     "text": [
      "shape: (396, 2)\n",
      "┌───────────────┬──────────┐\n",
      "│ userClusterId ┆ is_man   │\n",
      "│ ---           ┆ ---      │\n",
      "│ i64           ┆ f64      │\n",
      "╞═══════════════╪══════════╡\n",
      "│ 143           ┆ 0.0      │\n",
      "│ 268           ┆ 0.0      │\n",
      "│ 402           ┆ 0.0      │\n",
      "│ 399           ┆ 0.0      │\n",
      "│ …             ┆ …        │\n",
      "│ 169           ┆ 0.25     │\n",
      "│ 573           ┆ 0.285714 │\n",
      "│ 316           ┆ 0.5      │\n",
      "│ 238           ┆ 1.0      │\n",
      "└───────────────┴──────────┘\n"
     ]
    }
   ],
   "source": [
    "# is customer service?\n",
    "print( userAttriibute.select( \"userClusterId\", (pl.col(\"occupation\") == \"customer service\").cast(int).alias(\"is_man\") ).group_by(\"userClusterId\").mean().sort(\"is_man\") )"
   ]
  },
  {
   "cell_type": "code",
   "execution_count": 21,
   "id": "df1b2c08-fc20-4290-b4fd-1460ef271c6d",
   "metadata": {},
   "outputs": [
    {
     "name": "stdout",
     "output_type": "stream",
     "text": [
      "shape: (1, 6)\n",
      "┌────────┬────────┬───────┬──────────────────┬─────────┬───────────────┐\n",
      "│ userId ┆ gender ┆ age   ┆ occupation       ┆ zipCode ┆ userClusterId │\n",
      "│ ---    ┆ ---    ┆ ---   ┆ ---              ┆ ---     ┆ ---           │\n",
      "│ i64    ┆ str    ┆ str   ┆ str              ┆ str     ┆ i64           │\n",
      "╞════════╪════════╪═══════╪══════════════════╪═════════╪═══════════════╡\n",
      "│ 692    ┆ Man    ┆ 18-24 ┆ customer service ┆ 55414   ┆ 238           │\n",
      "└────────┴────────┴───────┴──────────────────┴─────────┴───────────────┘\n",
      "Man (100.0\\%), \n",
      "18-24 (100.0\\%), \n",
      "customer service (100.0\\%), \n",
      "\n",
      "******************************\n",
      "\n",
      "[359  29   9]\n",
      "Sci-Fi (60.0\\%), Action (40.0\\%), Film-Noir (20.0\\%), \n",
      "3.4\n",
      "\n",
      "3.4\n",
      "\n",
      "3.4\n",
      "\n",
      "******************************\n",
      "\n",
      "[379 550 415]\n",
      "Drama (100.0\\%), \n",
      "4.6\n",
      "Comedy (100.0\\%), \n",
      "4.7000003\n",
      "Drama (100.0\\%), \n",
      "4.6\n"
     ]
    }
   ],
   "source": [
    "userId = 238\n",
    "\n",
    "# 対象ユーザクラスタの中身\n",
    "print( d := userAttriibute.filter( pl.col(\"userClusterId\") == userId ) )\n",
    "count(d[\"gender\"])\n",
    "count(d[\"age\"])\n",
    "count(d[\"occupation\"])\n",
    "\n",
    "print(\"\\n******************************\\n\")\n",
    "\n",
    "# 嗜好 Top-5 アイテムクラスタ\n",
    "print(ids := clusterToCluster[userId].argsort()[-3:][::-1])\n",
    "for id in ids:\n",
    "    values = itemAttriibute.filter( pl.col(\"itemClusterId\") == id ).get_column(\"genres\")\n",
    "    count(values)\n",
    "    print(itemConnectionMatrix[:, id].sum().round(1))\n",
    "\n",
    "print(\"\\n******************************\\n\")\n",
    "\n",
    "# 嗜好 Worst-5 アイテムクラスタ\n",
    "print(ids := clusterToCluster[userId].argsort()[:3][::-1])\n",
    "for id in ids:\n",
    "    values = itemAttriibute.filter( pl.col(\"itemClusterId\") == id ).get_column(\"genres\")\n",
    "    count(values)\n",
    "    print(itemConnectionMatrix[:, id].sum().round(1))"
   ]
  }
 ],
 "metadata": {
  "kernelspec": {
   "display_name": "Python 3 (ipykernel)",
   "language": "python",
   "name": "python3"
  },
  "language_info": {
   "codemirror_mode": {
    "name": "ipython",
    "version": 3
   },
   "file_extension": ".py",
   "mimetype": "text/x-python",
   "name": "python",
   "nbconvert_exporter": "python",
   "pygments_lexer": "ipython3",
   "version": "3.8.10"
  }
 },
 "nbformat": 4,
 "nbformat_minor": 5
}
