{
 "cells": [
  {
   "cell_type": "code",
   "execution_count": null,
   "id": "5041fa96-dbfc-4a77-9984-f747b1059254",
   "metadata": {},
   "outputs": [],
   "source": [
    "import sys\n",
    "import mlflow\n",
    "from dotenv import load_dotenv\n",
    "import optuna\n",
    "\n",
    "sys.path.append(\"..\")\n",
    "from herec.reader import *\n",
    "from herec.utils import hyParamSuggester"
   ]
  },
  {
   "cell_type": "markdown",
   "id": "5a3d2e1f-0932-4165-8e83-cf39ab839e36",
   "metadata": {},
   "source": [
    "## Arguments"
   ]
  },
  {
   "cell_type": "code",
   "execution_count": null,
   "id": "e70dbee4-83a2-4819-a58f-e8e08b06c11a",
   "metadata": {},
   "outputs": [],
   "source": [
    "MODEL = \"MF\"\n",
    "DATASET = \"ML100K\"\n",
    "SETTING_PATH = f\"../setting/{MODEL}.yaml\""
   ]
  },
  {
   "cell_type": "markdown",
   "id": "4ce042a2-4f16-437b-9634-a10ffe2739df",
   "metadata": {},
   "source": [
    "## Dataset"
   ]
  },
  {
   "cell_type": "code",
   "execution_count": null,
   "id": "ae1215c0-bb2c-4da7-a0c8-5a7ad3d1b1fb",
   "metadata": {},
   "outputs": [],
   "source": [
    "if DATASET == \"ML100K\":\n",
    "    reader = ML100K()\n",
    "elif DATASET == \"ML1M\":\n",
    "    reader = ML1M()\n",
    "elif DATASET == \"ML10M\":\n",
    "    reader = ML10M()\n",
    "elif DATASET == \"ML25M\":\n",
    "    reader = ML25M()\n",
    "else:\n",
    "    raise Exception(\"Invalid DATASET NAME\")"
   ]
  },
  {
   "cell_type": "markdown",
   "id": "acbdbf0c-2a18-410c-91a6-530260c5a10a",
   "metadata": {},
   "source": [
    "## Setup MLFlow"
   ]
  },
  {
   "cell_type": "code",
   "execution_count": null,
   "id": "9cb524f1-ffb6-4873-993a-78bb2662518f",
   "metadata": {},
   "outputs": [],
   "source": [
    "load_dotenv(\"../.env\")\n",
    "\n",
    "EXPERIMENT_NAME = f\"HeRec-{MODEL}-{DATASET}\"\n",
    "if (experiment := mlflow.get_experiment_by_name(EXPERIMENT_NAME)) is None:\n",
    "    experiment_id = mlflow.create_experiment(name=EXPERIMENT_NAME)\n",
    "else:\n",
    "    experiment_id = experiment.experiment_id\n",
    "\n",
    "print(\"実験名:\", EXPERIMENT_NAME)\n",
    "print(\"実験ID:\", experiment_id)"
   ]
  },
  {
   "cell_type": "markdown",
   "id": "dae31d12-0265-48d1-8323-ab96b68bebda",
   "metadata": {},
   "source": [
    "## Training"
   ]
  },
  {
   "cell_type": "code",
   "execution_count": null,
   "id": "9a3dbfcb-ee3e-448a-9ada-16f21f3573a7",
   "metadata": {},
   "outputs": [],
   "source": [
    "# Def. Hyper-parameter Suggester\n",
    "suggester = hyParamSuggester(SETTING_PATH)\n",
    "\n",
    "# Def. DataLoader\n",
    "from herec.loader import ratingLoader as targetLoader\n",
    "\n",
    "# Def. Trainer\n",
    "from herec.trainer import ratingTrainer as targetTrainer"
   ]
  },
  {
   "cell_type": "code",
   "execution_count": null,
   "id": "f3413721-56fc-44dc-a7af-3a0f25d58f7e",
   "metadata": {},
   "outputs": [],
   "source": [
    "def objective(trial):\n",
    "\n",
    "    with mlflow.start_run(experiment_id=experiment_id) as run:\n",
    "\n",
    "        # Get Hyper-parameter Setting\n",
    "        hyparam = suggester.suggest_hyparam(trial)\n",
    "\n",
    "        # Save Hyper-parameter to MLFlow\n",
    "        mlflow.log_params(hyparam[\"model\"])\n",
    "        mlflow.log_params(hyparam[\"trainer\"])\n",
    "        mlflow.log_dict(hyparam, \"params.json\")\n",
    "    \n",
    "        # Define Model\n",
    "        if MODEL == \"MF\":\n",
    "            from herec.model import MF\n",
    "            model = MF(\n",
    "                user_num=reader.user_num,\n",
    "                item_num=reader.item_num,\n",
    "                **hyparam[\"model\"]\n",
    "            )\n",
    "\n",
    "        # Train\n",
    "        trainer = targetTrainer(model=model, dataLoader=targetLoader, run=run, ckpt_dir=\"../checkpoint/\", verbose=1, **hyparam[\"trainer\"])\n",
    "        trainer.fit(reader.df_SUBSET[\"TRAIN\"], reader.df_SUBSET[\"VALID\"])\n",
    "        trainer.clear_cache()\n",
    "    \n",
    "        # Get Best Validation Loss\n",
    "        best_valid_loss = trainer.score( trainer.get_best_params(), reader.df_SUBSET[\"VALID\"] )\n",
    "\n",
    "        # Save Best Valid. Loss to MLFlow\n",
    "        mlflow.log_metric(\"BEST_VALID_LOSS\", best_valid_loss)\n",
    "\n",
    "    return best_valid_loss\n",
    "\n",
    "# TPE\n",
    "study = optuna.create_study()\n",
    "study.optimize(objective, n_trials=100)"
   ]
  }
 ],
 "metadata": {
  "kernelspec": {
   "display_name": "Python 3 (ipykernel)",
   "language": "python",
   "name": "python3"
  },
  "language_info": {
   "codemirror_mode": {
    "name": "ipython",
    "version": 3
   },
   "file_extension": ".py",
   "mimetype": "text/x-python",
   "name": "python",
   "nbconvert_exporter": "python",
   "pygments_lexer": "ipython3",
   "version": "3.8.10"
  }
 },
 "nbformat": 4,
 "nbformat_minor": 5
}
