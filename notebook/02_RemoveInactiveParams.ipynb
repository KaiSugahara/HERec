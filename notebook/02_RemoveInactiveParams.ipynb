{
 "cells": [
  {
   "cell_type": "code",
   "execution_count": null,
   "id": "969eba09-204d-43dd-9dd6-843a377cf942",
   "metadata": {},
   "outputs": [],
   "source": [
    "import os\n",
    "import shutil\n",
    "import mlflow\n",
    "from glob import glob\n",
    "from tqdm import tqdm\n",
    "\n",
    "from dotenv import load_dotenv\n",
    "load_dotenv(\"../.env\")"
   ]
  },
  {
   "cell_type": "markdown",
   "id": "789cab51-592c-435a-9e59-b0aa46c6b73a",
   "metadata": {},
   "source": [
    "## ローカルのモデルパラメータのrun_idを取得"
   ]
  },
  {
   "cell_type": "code",
   "execution_count": null,
   "id": "40988765-d65e-4e41-9889-43eefeb2beb6",
   "metadata": {},
   "outputs": [],
   "source": [
    "localPaths = glob('../checkpoint/*')\n",
    "localRunIds = set([path.rsplit('/', 1)[1] for path in localPaths])\n",
    "\n",
    "print( len(localRunIds) )"
   ]
  },
  {
   "cell_type": "markdown",
   "id": "dbb2aa04-53fd-4c1d-bb78-6af8a944df03",
   "metadata": {},
   "source": [
    "## 存在するrun_idを取得"
   ]
  },
  {
   "cell_type": "code",
   "execution_count": null,
   "id": "95c8516f-54d4-40e1-9f3e-a0230e34a699",
   "metadata": {},
   "outputs": [],
   "source": [
    "activeExperimentIds = [experiment.experiment_id for experiment in mlflow.search_experiments(view_type=\"ACTIVE_ONLY\")]\n",
    "print(activeExperimentIds)\n",
    "\n",
    "activeRuns = mlflow.search_runs(experiment_ids=activeExperimentIds, run_view_type=1)\n",
    "activeRunIds = set(activeRuns[\"run_id\"])\n",
    "print( len(activeRunIds) )"
   ]
  },
  {
   "cell_type": "markdown",
   "id": "ff2f2768-ccd0-4739-ac6a-8ea50ecab988",
   "metadata": {
    "scrolled": true
   },
   "source": [
    "## MLflow上で削除されたrunのモデルパラメータを削除する"
   ]
  },
  {
   "cell_type": "code",
   "execution_count": null,
   "id": "db081dac-42b3-4641-8d22-669205233c2e",
   "metadata": {},
   "outputs": [],
   "source": [
    "removedRunIds = localRunIds - activeRunIds\n",
    "print( len(removedRunIds) )"
   ]
  },
  {
   "cell_type": "code",
   "execution_count": null,
   "id": "678c91d6-541b-46b0-8bf7-a5ed85fd02ee",
   "metadata": {},
   "outputs": [],
   "source": [
    "for runId in tqdm(removedRunIds):\n",
    "    \n",
    "    path = f'../checkpoint/{runId}'\n",
    "    shutil.rmtree(path)"
   ]
  }
 ],
 "metadata": {
  "kernelspec": {
   "display_name": "Python 3 (ipykernel)",
   "language": "python",
   "name": "python3"
  },
  "language_info": {
   "codemirror_mode": {
    "name": "ipython",
    "version": 3
   },
   "file_extension": ".py",
   "mimetype": "text/x-python",
   "name": "python",
   "nbconvert_exporter": "python",
   "pygments_lexer": "ipython3",
   "version": "3.8.10"
  }
 },
 "nbformat": 4,
 "nbformat_minor": 5
}
