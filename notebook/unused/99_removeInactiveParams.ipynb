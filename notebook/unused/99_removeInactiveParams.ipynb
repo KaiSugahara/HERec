{
 "cells": [
  {
   "cell_type": "code",
   "execution_count": null,
   "id": "969eba09-204d-43dd-9dd6-843a377cf942",
   "metadata": {},
   "outputs": [],
   "source": [
    "import os\n",
    "import shutil\n",
    "import mlflow\n",
    "from glob import glob\n",
    "from tqdm import tqdm\n",
    "import polars as pl\n",
    "\n",
    "from dotenv import load_dotenv\n",
    "load_dotenv(\"../.env\")"
   ]
  },
  {
   "cell_type": "markdown",
   "id": "5ed244a2-d29c-44c2-ab24-597bae726f0f",
   "metadata": {
    "scrolled": true
   },
   "source": [
    "## A. Delete Model Parameters of Run Deleted on MLflow from Local Directory"
   ]
  },
  {
   "cell_type": "code",
   "execution_count": null,
   "id": "16d814a6-78e8-46bc-adfd-b079f3c76978",
   "metadata": {},
   "outputs": [],
   "source": [
    "# Get run_id of Local Model Parameter\n",
    "\n",
    "localPaths = glob('../checkpoint/*')\n",
    "localRunIds = set([path.rsplit('/', 1)[1] for path in localPaths])\n",
    "\n",
    "print( len(localRunIds) )"
   ]
  },
  {
   "cell_type": "code",
   "execution_count": null,
   "id": "e1c1b77a-69ca-4db7-ad18-f998bad6157c",
   "metadata": {},
   "outputs": [],
   "source": [
    "# Obtain run_id existing in MLflow\n",
    "\n",
    "activeExperimentIds = [experiment.experiment_id for experiment in mlflow.search_experiments(view_type=\"ACTIVE_ONLY\")]\n",
    "print(activeExperimentIds)\n",
    "\n",
    "activeRuns = mlflow.search_runs(experiment_ids=activeExperimentIds, run_view_type=1)\n",
    "activeRunIds = set(activeRuns[\"run_id\"])\n",
    "print( len(activeRunIds) )"
   ]
  },
  {
   "cell_type": "code",
   "execution_count": null,
   "id": "27b43576-be3d-4000-8096-ca1eb3bdcaad",
   "metadata": {},
   "outputs": [],
   "source": [
    "removedRunIds = localRunIds - activeRunIds\n",
    "print( len(removedRunIds) )\n",
    "\n",
    "for runId in tqdm(removedRunIds):\n",
    "    \n",
    "    path = f'../checkpoint/{runId}'\n",
    "    shutil.rmtree(path)"
   ]
  },
  {
   "cell_type": "markdown",
   "id": "47fc2e97-552d-4df2-aac9-783e1c52b99b",
   "metadata": {},
   "source": [
    "## B. Delete unnecessary model parameters in Train"
   ]
  },
  {
   "cell_type": "code",
   "execution_count": null,
   "id": "06dd6b0c-aeb0-43b9-bfdd-9567b1a11dd2",
   "metadata": {
    "scrolled": true
   },
   "outputs": [],
   "source": [
    "# Obtain train run_id existing in MLflow\n",
    "experiment_ids = [experiment.experiment_id for experiment in mlflow.search_experiments( view_type=\"ACTIVE_ONLY\" ) if experiment.name.endswith(\"-TRAIN\")]\n",
    "df_mlflow = pl.from_pandas(mlflow.search_runs( experiment_ids=experiment_ids ))\n",
    "trainRunIds = df_mlflow.filter( pl.col(\"status\") == \"FINISHED\" ).get_column(\"run_id\")\n",
    "print(trainRunIds)\n",
    "\n",
    "# Get run_id of Local Model Parameter\n",
    "runDirPathList = list(glob('../checkpoint/*'))\n",
    "print(len(runDirPathList))\n",
    "\n",
    "for runDirPath in tqdm(runDirPathList):\n",
    "\n",
    "    # Parse Run ID\n",
    "    runId = runDirPath.rsplit(\"/\", 1)[-1]\n",
    "    \n",
    "    # Continue if the run_id is not in train runs\n",
    "    if runId not in trainRunIds:\n",
    "        continue\n",
    "\n",
    "    # Delete Unused Model Parameters\n",
    "    targetDirPathList = sorted(glob(f'../checkpoint/{runId}/*'), key=(lambda s: int(s.rsplit(\"/\", 1)[1])))[1:]\n",
    "    for path in targetDirPathList:\n",
    "        shutil.rmtree(path)"
   ]
  },
  {
   "cell_type": "markdown",
   "id": "b7803bf4-af1e-4f2f-87b1-84518076450a",
   "metadata": {},
   "source": [
    "## C. Delete unnecessary model parameters in Test"
   ]
  },
  {
   "cell_type": "code",
   "execution_count": null,
   "id": "b5070d38-eb55-4446-96f9-1ef6cc8dce56",
   "metadata": {},
   "outputs": [],
   "source": [
    "# Obtain train run_id existing in MLflow\n",
    "experiment_ids = [experiment.experiment_id for experiment in mlflow.search_experiments( view_type=\"ACTIVE_ONLY\" ) if experiment.name.endswith(\"-TEST\")]\n",
    "df_mlflow = pl.from_pandas(mlflow.search_runs( experiment_ids=experiment_ids ))\n",
    "trainRunIds = df_mlflow.filter( pl.col(\"status\") == \"FINISHED\" ).get_column(\"run_id\")\n",
    "print(trainRunIds)\n",
    "\n",
    "# Get run_id of Local Model Parameter\n",
    "runDirPathList = list(glob('../checkpoint/*'))\n",
    "print(len(runDirPathList))\n",
    "\n",
    "for runDirPath in tqdm(runDirPathList):\n",
    "\n",
    "    # Parse Run ID\n",
    "    runId = runDirPath.rsplit(\"/\", 1)[-1]\n",
    "    \n",
    "    # Continue if the run_id is not in train runs\n",
    "    if runId not in trainRunIds:\n",
    "        continue\n",
    "\n",
    "    # Delete Unused Model Parameters\n",
    "    targetDirPathList = sorted(glob(f'../checkpoint/{runId}/*'), key=(lambda s: int(s.rsplit(\"/\", 1)[1])))[:-1]\n",
    "    for path in targetDirPathList:\n",
    "        shutil.rmtree(path)"
   ]
  }
 ],
 "metadata": {
  "kernelspec": {
   "display_name": "Python 3 (ipykernel)",
   "language": "python",
   "name": "python3"
  },
  "language_info": {
   "codemirror_mode": {
    "name": "ipython",
    "version": 3
   },
   "file_extension": ".py",
   "mimetype": "text/x-python",
   "name": "python",
   "nbconvert_exporter": "python",
   "pygments_lexer": "ipython3",
   "version": "3.10.12"
  }
 },
 "nbformat": 4,
 "nbformat_minor": 5
}
