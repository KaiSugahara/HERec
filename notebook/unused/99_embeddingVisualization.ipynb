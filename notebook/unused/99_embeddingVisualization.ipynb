{
 "cells": [
  {
   "cell_type": "code",
   "execution_count": null,
   "id": "1cfed73e-f03b-4887-9141-1a88bbcffc18",
   "metadata": {},
   "outputs": [],
   "source": [
    "%load_ext autoreload"
   ]
  },
  {
   "cell_type": "code",
   "execution_count": null,
   "id": "5286117b-0a3c-4d37-8956-154a721505db",
   "metadata": {},
   "outputs": [],
   "source": [
    "%autoreload 2\n",
    "\n",
    "import sys\n",
    "sys.path.append(\"..\")\n",
    "\n",
    "import jax\n",
    "import jax.numpy as jnp\n",
    "import flax.linen as nn\n",
    "from tqdm import tqdm\n",
    "\n",
    "import optuna\n",
    "\n",
    "import polars as pl\n",
    "import numpy as np\n",
    "import matplotlib.pyplot as plt\n",
    "\n",
    "from herec.utils import *\n",
    "from herec.loader import *\n",
    "from herec.reader import *\n",
    "from herec.trainer import *\n",
    "from herec.model import *"
   ]
  },
  {
   "cell_type": "code",
   "execution_count": null,
   "id": "7de66ce8-636e-4e4c-8557-1b258e106375",
   "metadata": {},
   "outputs": [],
   "source": [
    "import mlflow\n",
    "from dotenv import load_dotenv\n",
    "load_dotenv(\"../.env\")"
   ]
  },
  {
   "cell_type": "markdown",
   "id": "31537973-e888-4516-a4e8-8079405bf7f7",
   "metadata": {},
   "source": [
    "# パラメータの可視化"
   ]
  },
  {
   "cell_type": "code",
   "execution_count": null,
   "id": "0ecd8eb6-e25a-4d53-a02d-91a968ade80f",
   "metadata": {},
   "outputs": [],
   "source": [
    "\"\"\"\n",
    "    HMFの可視化\n",
    "\"\"\"\n",
    "\n",
    "run_id = \"3c8ecbf575e44d6da67139819ff95c87\"\n",
    "temperature = restoreHyperParams(run_id)[\"model\"][\"temperature\"]\n",
    "params = restoreModelParams( run_id )\n",
    "\n",
    "# Generate User Embeddings\n",
    "if \"rootMatrix\" in params[\"userEmbedder\"].keys():\n",
    "    userrootEmbed = params[\"userEmbedder\"][\"rootMatrix\"]\n",
    "    userRootConnection = jnp.linalg.multi_dot([nn.softmax(val / temperature) for key, val in params[\"userEmbedder\"].items() if key != \"rootMatrix\"] + [jnp.eye(userrootEmbed.shape[0])])\n",
    "    userObjEmbed = userRootConnection @ userrootEmbed\n",
    "else:\n",
    "    userObjEmbed = params[\"userEmbedder\"][\"embedding\"]\n",
    "\n",
    "# Generate Item Embeddings\n",
    "if \"rootMatrix\" in params[\"itemEmbedder\"].keys():\n",
    "    itemrootEmbed = params[\"itemEmbedder\"][\"rootMatrix\"]\n",
    "    itemRootConnection = jnp.linalg.multi_dot([nn.softmax(val / temperature) for key, val in params[\"itemEmbedder\"].items() if key != \"rootMatrix\"] + [jnp.eye(itemrootEmbed.shape[0])])\n",
    "    itemObjEmbed = itemRootConnection @ itemrootEmbed\n",
    "else:\n",
    "    itemObjEmbed = params[\"itemEmbedder\"][\"embedding\"]\n",
    "\n",
    "# 可視化\n",
    "fig, ax = plt.subplots( 2, 2, figsize=(8, 8) )\n",
    "\n",
    "if \"rootMatrix\" in params[\"userEmbedder\"].keys():\n",
    "    ax[0, 0].scatter(userrootEmbed[:, 0], userrootEmbed[:, 1], c=\"gray\")\n",
    "ax[0, 0].scatter(userObjEmbed[:, 0], userObjEmbed[:, 1], c=\"blue\")\n",
    "if \"rootMatrix\" in params[\"itemEmbedder\"].keys():\n",
    "    ax[0, 1].scatter(itemrootEmbed[:, 0], itemrootEmbed[:, 1], c=\"gray\")\n",
    "ax[0, 1].scatter(itemObjEmbed[:, 0], itemObjEmbed[:, 1], c=\"blue\")\n",
    "\n",
    "if \"rootMatrix\" in params[\"userEmbedder\"].keys():\n",
    "    ax[1, 0].scatter(userrootEmbed[:, -2], userrootEmbed[:, -1], c=\"gray\")\n",
    "ax[1, 0].scatter(userObjEmbed[:, -2], userObjEmbed[:, -1], c=\"blue\")\n",
    "if \"rootMatrix\" in params[\"itemEmbedder\"].keys():\n",
    "    ax[1, 1].scatter(itemrootEmbed[:, -2], itemrootEmbed[:, -1], c=\"gray\")\n",
    "ax[1, 1].scatter(itemObjEmbed[:, -2], itemObjEmbed[:, -1], c=\"blue\")\n",
    "\n",
    "plt.show()"
   ]
  },
  {
   "cell_type": "code",
   "execution_count": null,
   "id": "67249fc8-aa18-43af-91cd-3642f6db87c1",
   "metadata": {},
   "outputs": [],
   "source": [
    "print(jax.lax.top_k(userRootConnection, 5)[1])\n",
    "print(jax.lax.top_k(itemRootConnection, 5)[1])\n",
    "print(jax.lax.top_k(userObjEmbed[:10] @ itemObjEmbed.T, 5)[1])\n",
    "# print( jax.lax.top_k(userrootEmbed @ itemrootEmbed.T, 5)[1] )"
   ]
  },
  {
   "cell_type": "code",
   "execution_count": null,
   "id": "7fa73363-6b07-4b6d-8e6a-3f916d0988b1",
   "metadata": {},
   "outputs": [],
   "source": [
    "\"\"\"\n",
    "    MFの可視化\n",
    "\"\"\"\n",
    "\n",
    "run_id = \"e69f7c68b3884a64b40af918ab1c832c\"\n",
    "params = restoreModelParams( run_id )\n",
    "\n",
    "userObjEmbed = params[\"userEmbedder\"][\"embedding\"]\n",
    "itemObjEmbed = params[\"itemEmbedder\"][\"embedding\"]\n",
    "\n",
    "# 可視化\n",
    "fig, ax = plt.subplots( 2, 2, figsize=(8, 8) )\n",
    "\n",
    "if \"rootMatrix\" in params[\"userEmbedder\"].keys():\n",
    "    ax[0, 0].scatter(userrootEmbed[:, 0], userrootEmbed[:, 1], c=\"gray\")\n",
    "ax[0, 0].scatter(userObjEmbed[:, 0], userObjEmbed[:, 1], c=\"blue\")\n",
    "if \"rootMatrix\" in params[\"itemEmbedder\"].keys():\n",
    "    ax[0, 1].scatter(itemrootEmbed[:, 0], itemrootEmbed[:, 1], c=\"gray\")\n",
    "ax[0, 1].scatter(itemObjEmbed[:, 0], itemObjEmbed[:, 1], c=\"blue\")\n",
    "\n",
    "if \"rootMatrix\" in params[\"userEmbedder\"].keys():\n",
    "    ax[1, 0].scatter(userrootEmbed[:, -2], userrootEmbed[:, -1], c=\"gray\")\n",
    "ax[1, 0].scatter(userObjEmbed[:, -2], userObjEmbed[:, -1], c=\"blue\")\n",
    "if \"rootMatrix\" in params[\"itemEmbedder\"].keys():\n",
    "    ax[1, 1].scatter(itemrootEmbed[:, -2], itemrootEmbed[:, -1], c=\"gray\")\n",
    "ax[1, 1].scatter(itemObjEmbed[:, -2], itemObjEmbed[:, -1], c=\"blue\")\n",
    "\n",
    "plt.show()"
   ]
  },
  {
   "cell_type": "code",
   "execution_count": null,
   "id": "e1baf3ef-c96a-4237-89a3-b1699a66ee76",
   "metadata": {},
   "outputs": [],
   "source": [
    "print(jax.lax.top_k(userObjEmbed[:10] @ itemObjEmbed.T, 5)[1])"
   ]
  }
 ],
 "metadata": {
  "kernelspec": {
   "display_name": "Python 3 (ipykernel)",
   "language": "python",
   "name": "python3"
  },
  "language_info": {
   "codemirror_mode": {
    "name": "ipython",
    "version": 3
   },
   "file_extension": ".py",
   "mimetype": "text/x-python",
   "name": "python",
   "nbconvert_exporter": "python",
   "pygments_lexer": "ipython3",
   "version": "3.8.10"
  }
 },
 "nbformat": 4,
 "nbformat_minor": 5
}
