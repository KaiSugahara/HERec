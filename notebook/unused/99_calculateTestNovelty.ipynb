{
 "cells": [
  {
   "cell_type": "code",
   "execution_count": null,
   "id": "1cfed73e-f03b-4887-9141-1a88bbcffc18",
   "metadata": {},
   "outputs": [],
   "source": [
    "%load_ext autoreload"
   ]
  },
  {
   "cell_type": "code",
   "execution_count": null,
   "id": "5286117b-0a3c-4d37-8956-154a721505db",
   "metadata": {},
   "outputs": [],
   "source": [
    "%autoreload 2\n",
    "\n",
    "import jax\n",
    "import jax.numpy as jnp\n",
    "import flax.linen as nn\n",
    "from tqdm import tqdm\n",
    "import polars as pl\n",
    "import pandas as pd\n",
    "import numpy as np\n",
    "\n",
    "import mlflow\n",
    "from dotenv import load_dotenv\n",
    "load_dotenv(\"../.env\")\n",
    "\n",
    "import sys\n",
    "sys.path.append(\"..\")\n",
    "from herec.utils import *\n",
    "from herec.loader import *\n",
    "from herec.reader import *\n",
    "from herec.trainer import *\n",
    "from herec.model import *"
   ]
  },
  {
   "cell_type": "code",
   "execution_count": null,
   "id": "1101b083-2e8a-4458-af1f-c655f996d13b",
   "metadata": {},
   "outputs": [],
   "source": [
    "def restoreDataAndPrediction(datasetName, modelName, seed):\n",
    "\n",
    "    if datasetName == \"Twitch100K\":\n",
    "        reader = Twitch100K()\n",
    "    if datasetName == \"ML100K_IMPLICIT\":\n",
    "        reader = ML100K_IMPLICIT()\n",
    "    if datasetName == \"ML1M_IMPLICIT\":\n",
    "        reader = ML1M_IMPLICIT()\n",
    "    if datasetName == \"FourSquare\":\n",
    "        reader = FourSquare()\n",
    "\n",
    "    print( f\"{datasetName}-{modelName}-TEST\", seed )\n",
    "    \n",
    "    # DATA READ\n",
    "    DATA = reader.get(seed, \"test\")\n",
    "    \n",
    "    # Run IDを取得\n",
    "    run_id = pl.from_pandas(mlflow.search_runs( experiment_names=[f\"{datasetName}-{modelName}-TEST\"] )).filter( pl.col(\"params.seed\").cast(int) == seed ).get_column(\"run_id\")[0]\n",
    "    \n",
    "    # モデルパラメータ/ハイパーパラメータを取得\n",
    "    params = restoreModelParams( run_id, -1 )\n",
    "    hyparams = restoreHyperParams( run_id )\n",
    "    \n",
    "    # モデルを取得\n",
    "    model = getModel( modelName, hyparams, DATA )\n",
    "    \n",
    "    pred_scores = model.apply({\"params\": params}, DATA[\"df_EVALUATION\"][\"user_ids\"], method=model.get_all_scores_by_user_ids)\n",
    "    topk_indices = jax.lax.top_k( pred_scores, 100 )[1]\n",
    "\n",
    "    return DATA, topk_indices"
   ]
  },
  {
   "cell_type": "code",
   "execution_count": null,
   "id": "1365c969-39ec-4203-9eaa-e0cd46b10522",
   "metadata": {},
   "outputs": [],
   "source": [
    "def calcNovelty(DATA, topk_indices, k):\n",
    "\n",
    "    p = DATA[\"df_TRAIN\"].group_by(\"item_id\").count().with_columns(\n",
    "        pl.col(\"count\") / DATA[\"df_TRAIN\"].get_column(\"user_id\").n_unique()\n",
    "    )\n",
    "    p = dict(zip(*p))\n",
    "    p = {itemId: (p[itemId] if itemId in p.keys() else 0) for itemId in range(DATA[\"item_num\"])}\n",
    "    novelty = jnp.array([[p[itemId] for itemId in recList] for recList in topk_indices[:, :k].tolist()])\n",
    "    novelty = novelty[novelty != 0]\n",
    "    novelty = (- jnp.log2(novelty)).mean()\n",
    "    \n",
    "    return novelty.tolist()"
   ]
  },
  {
   "cell_type": "code",
   "execution_count": null,
   "id": "3b23428d-1b43-4169-a179-44e628442d4b",
   "metadata": {},
   "outputs": [],
   "source": [
    "datasetName = \"ML100K_IMPLICIT\"\n",
    "\n",
    "for modelName in [\"MF_BPR\", \"ProtoMF_BPR\", \"HE_MF_USER_BPR\", \"HE_MF_ITEM_BPR\", \"HE_MF_BPR\", \"NeuMF_BPR\", \"HE_NeuMF_BPR\"]:\n",
    "\n",
    "    values = []\n",
    "    for seed in range(3):\n",
    "        DATA, topk_indices = restoreDataAndPrediction(datasetName, modelName, seed)\n",
    "        values.append( calcNovelty(DATA, topk_indices, 10) )\n",
    "    print(np.array(values))\n",
    "    print(\"$\", np.mean(values).round(3), \" \\pm \", np.std(values).round(3), \"$\", sep=\"\", end=\"\\n\\n\")"
   ]
  },
  {
   "cell_type": "code",
   "execution_count": null,
   "id": "5fbeb247-7eed-4816-b578-b2b0e2572d61",
   "metadata": {},
   "outputs": [],
   "source": [
    "datasetName = \"ML1M_IMPLICIT\"\n",
    "\n",
    "for modelName in [\"MF_BPR\", \"ProtoMF_BPR\", \"HE_MF_USER_BPR\", \"HE_MF_ITEM_BPR\", \"HE_MF_BPR\", \"NeuMF_BPR\", \"HE_NeuMF_BPR\"]:\n",
    "\n",
    "    values = []\n",
    "    for seed in range(3):\n",
    "        DATA, topk_indices = restoreDataAndPrediction(datasetName, modelName, seed)\n",
    "        values.append( calcNovelty(DATA, topk_indices, 10) )\n",
    "    print(np.array(values))\n",
    "    print(\"$\", np.mean(values).round(3), \" \\pm \", np.std(values).round(3), \"$\", sep=\"\", end=\"\\n\\n\")"
   ]
  },
  {
   "cell_type": "code",
   "execution_count": null,
   "id": "286aad52-c743-4dbe-8228-4692401fd087",
   "metadata": {},
   "outputs": [],
   "source": [
    "datasetName = \"Twitch100K\"\n",
    "\n",
    "for modelName in [\"MF_BPR\", \"ProtoMF_BPR\", \"HE_MF_USER_BPR\", \"HE_MF_ITEM_BPR\", \"HE_MF_BPR\"]:\n",
    "\n",
    "    values = []\n",
    "    for seed in range(3):\n",
    "        DATA, topk_indices = restoreDataAndPrediction(datasetName, modelName, seed)\n",
    "        values.append( calcNovelty(DATA, topk_indices, 10) )\n",
    "    print(np.array(values))\n",
    "    print(\"$\", np.mean(values).round(3), \" \\pm \", np.std(values).round(3), \"$\", sep=\"\", end=\"\\n\\n\")"
   ]
  },
  {
   "cell_type": "code",
   "execution_count": null,
   "id": "fb72c128-c5b5-4292-9ae0-ceafd9806f1c",
   "metadata": {},
   "outputs": [],
   "source": [
    "datasetName = \"FourSquare\"\n",
    "\n",
    "for modelName in [\"MF_BPR\", \"ProtoMF_BPR\", \"HE_MF_USER_BPR\", \"HE_MF_ITEM_BPR\", \"HE_MF_BPR\", \"NeuMF_BPR\", \"HE_NeuMF_BPR\"]:\n",
    "\n",
    "    values = []\n",
    "    for seed in range(3):\n",
    "        DATA, topk_indices = restoreDataAndPrediction(datasetName, modelName, seed)\n",
    "        values.append( calcNovelty(DATA, topk_indices, 10) )\n",
    "    print(np.array(values))\n",
    "    print(\"$\", np.mean(values).round(3), \" \\pm \", np.std(values).round(3), \"$\", sep=\"\", end=\"\\n\\n\")"
   ]
  }
 ],
 "metadata": {
  "kernelspec": {
   "display_name": "Python 3 (ipykernel)",
   "language": "python",
   "name": "python3"
  },
  "language_info": {
   "codemirror_mode": {
    "name": "ipython",
    "version": 3
   },
   "file_extension": ".py",
   "mimetype": "text/x-python",
   "name": "python",
   "nbconvert_exporter": "python",
   "pygments_lexer": "ipython3",
   "version": "3.8.10"
  }
 },
 "nbformat": 4,
 "nbformat_minor": 5
}
