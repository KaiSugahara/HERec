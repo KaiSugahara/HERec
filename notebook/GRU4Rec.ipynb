{
 "cells": [
  {
   "cell_type": "code",
   "execution_count": null,
   "id": "5041fa96-dbfc-4a77-9984-f747b1059254",
   "metadata": {},
   "outputs": [],
   "source": [
    "import sys\n",
    "sys.path.append(\"..\")"
   ]
  },
  {
   "cell_type": "markdown",
   "id": "5a3d2e1f-0932-4165-8e83-cf39ab839e36",
   "metadata": {},
   "source": [
    "## Arguments"
   ]
  },
  {
   "cell_type": "code",
   "execution_count": null,
   "id": "e70dbee4-83a2-4819-a58f-e8e08b06c11a",
   "metadata": {},
   "outputs": [],
   "source": [
    "DATASET = \"DIGINETICA\""
   ]
  },
  {
   "cell_type": "markdown",
   "id": "dae31d12-0265-48d1-8323-ab96b68bebda",
   "metadata": {},
   "source": [
    "## Training"
   ]
  },
  {
   "cell_type": "code",
   "execution_count": null,
   "id": "ae1215c0-bb2c-4da7-a0c8-5a7ad3d1b1fb",
   "metadata": {},
   "outputs": [],
   "source": [
    "# Read Dataset\n",
    "from herec.reader import *\n",
    "\n",
    "if DATASET == \"DIGINETICA\":\n",
    "    reader = DIGINETICA()\n",
    "elif DATASET == \"AMAZON_M2\":\n",
    "    reader = AMAZON_M2()\n",
    "else:\n",
    "    raise Exception(\"Invalid DATASET NAME\")"
   ]
  },
  {
   "cell_type": "code",
   "execution_count": null,
   "id": "328fee98-2984-4181-98af-af6c43d909ab",
   "metadata": {},
   "outputs": [],
   "source": [
    "# Define Model\n",
    "from herec.model import GRU4Rec\n",
    "model = GRU4Rec( item_num=reader.item_num, embedDim=10, GRU_LAYER_SIZES=[100], FF_LAYER_SIZES=[100] )\n",
    "\n",
    "# Define DataLoader for Mini-batch Optimization\n",
    "from herec.loader import sessionLoader\n",
    "\n",
    "# Train\n",
    "from herec.trainer import sessionTrainer\n",
    "trainer = sessionTrainer(model=model, dataLoader=sessionLoader, epoch_nums=10, batch_size=128)\n",
    "trainer.fit(reader.df_SUBSET[\"TRAIN\"], reader.df_SUBSET[\"VALID\"])"
   ]
  }
 ],
 "metadata": {
  "kernelspec": {
   "display_name": "Python 3 (ipykernel)",
   "language": "python",
   "name": "python3"
  },
  "language_info": {
   "codemirror_mode": {
    "name": "ipython",
    "version": 3
   },
   "file_extension": ".py",
   "mimetype": "text/x-python",
   "name": "python",
   "nbconvert_exporter": "python",
   "pygments_lexer": "ipython3",
   "version": "3.10.12"
  }
 },
 "nbformat": 4,
 "nbformat_minor": 5
}
