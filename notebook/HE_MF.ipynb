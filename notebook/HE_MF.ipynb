{
 "cells": [
  {
   "cell_type": "code",
   "execution_count": null,
   "id": "5041fa96-dbfc-4a77-9984-f747b1059254",
   "metadata": {},
   "outputs": [],
   "source": [
    "import sys\n",
    "sys.path.append(\"..\")"
   ]
  },
  {
   "cell_type": "markdown",
   "id": "5a3d2e1f-0932-4165-8e83-cf39ab839e36",
   "metadata": {},
   "source": [
    "## Arguments"
   ]
  },
  {
   "cell_type": "code",
   "execution_count": null,
   "id": "e70dbee4-83a2-4819-a58f-e8e08b06c11a",
   "metadata": {},
   "outputs": [],
   "source": [
    "DATASET = \"ML100K\""
   ]
  },
  {
   "cell_type": "markdown",
   "id": "dae31d12-0265-48d1-8323-ab96b68bebda",
   "metadata": {},
   "source": [
    "## Training"
   ]
  },
  {
   "cell_type": "code",
   "execution_count": null,
   "id": "ae1215c0-bb2c-4da7-a0c8-5a7ad3d1b1fb",
   "metadata": {},
   "outputs": [],
   "source": [
    "# Read Dataset\n",
    "from herec.reader import *\n",
    "\n",
    "if DATASET == \"ML100K\":\n",
    "    reader = ML100K()\n",
    "elif DATASET == \"ML1M\":\n",
    "    reader = ML1M()\n",
    "elif DATASET == \"ML10M\":\n",
    "    reader = ML10M()\n",
    "elif DATASET == \"ML25M\":\n",
    "    reader = ML25M()\n",
    "else:\n",
    "    raise Exception(\"Invalid DATASET NAME\")"
   ]
  },
  {
   "cell_type": "code",
   "execution_count": null,
   "id": "f3413721-56fc-44dc-a7af-3a0f25d58f7e",
   "metadata": {},
   "outputs": [],
   "source": [
    "# Define Model\n",
    "from herec.model import HE_MF\n",
    "model = HE_MF( user_num=reader.user_num, item_num=reader.item_num, clusterNums=[100, 10], embedDim=10 )\n",
    "\n",
    "# Define DataLoader for Mini-batch Optimization\n",
    "from herec.loader import ratingLoader\n",
    "\n",
    "# Train\n",
    "from herec.trainer import ratingTrainer\n",
    "trainer = ratingTrainer(model=model, dataLoader=ratingLoader, epoch_nums=10, batch_size=1024)\n",
    "trainer.fit(reader.df_SUBSET[\"TRAIN\"], reader.df_SUBSET[\"VALID\"])"
   ]
  }
 ],
 "metadata": {
  "kernelspec": {
   "display_name": "Python 3 (ipykernel)",
   "language": "python",
   "name": "python3"
  },
  "language_info": {
   "codemirror_mode": {
    "name": "ipython",
    "version": 3
   },
   "file_extension": ".py",
   "mimetype": "text/x-python",
   "name": "python",
   "nbconvert_exporter": "python",
   "pygments_lexer": "ipython3",
   "version": "3.10.12"
  }
 },
 "nbformat": 4,
 "nbformat_minor": 5
}
