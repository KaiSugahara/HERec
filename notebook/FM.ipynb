{
 "cells": [
  {
   "cell_type": "code",
   "execution_count": null,
   "id": "5041fa96-dbfc-4a77-9984-f747b1059254",
   "metadata": {},
   "outputs": [],
   "source": [
    "import sys\n",
    "sys.path.append(\"..\")"
   ]
  },
  {
   "cell_type": "markdown",
   "id": "1d506947-4e8f-45a4-aa47-70067b2d4491",
   "metadata": {},
   "source": [
    "## Arguments"
   ]
  },
  {
   "cell_type": "code",
   "execution_count": null,
   "id": "80a1dc0d-4161-4385-bf11-bdf429e50ec6",
   "metadata": {},
   "outputs": [],
   "source": [
    "DATASET = \"ML100K\"\n",
    "SETTING_PATH = \"../setting/FM.yaml\""
   ]
  },
  {
   "cell_type": "markdown",
   "id": "f072e5ac-e620-47ea-b417-0c577af58abf",
   "metadata": {},
   "source": [
    "## Hyper Parameter Setting"
   ]
  },
  {
   "cell_type": "code",
   "execution_count": null,
   "id": "c3463781-5fba-4410-ba61-f4d55f62bba8",
   "metadata": {},
   "outputs": [],
   "source": [
    "from herec.utils import hyParamLoader\n",
    "\n",
    "hyParamSettings = hyParamLoader(SETTING_PATH)\n",
    "hyParam = hyParamSettings[0]\n",
    "hyParam"
   ]
  },
  {
   "cell_type": "markdown",
   "id": "7b066b06-8e6a-4469-a20f-b917d6e66d60",
   "metadata": {},
   "source": [
    "## Dataset"
   ]
  },
  {
   "cell_type": "code",
   "execution_count": null,
   "id": "c979a951-2309-413c-992f-031728872ea2",
   "metadata": {},
   "outputs": [],
   "source": [
    "from herec.reader import *\n",
    "\n",
    "if DATASET == \"ML100K\":\n",
    "    reader = ML100K()\n",
    "elif DATASET == \"ML1M\":\n",
    "    reader = ML1M()\n",
    "elif DATASET == \"ML10M\":\n",
    "    reader = ML10M()\n",
    "elif DATASET == \"ML25M\":\n",
    "    reader = ML25M()\n",
    "else:\n",
    "    raise Exception(\"Invalid DATASET NAME\")"
   ]
  },
  {
   "cell_type": "markdown",
   "id": "a553e36b-4619-4a35-a126-af7458ae503f",
   "metadata": {},
   "source": [
    "## Training"
   ]
  },
  {
   "cell_type": "code",
   "execution_count": null,
   "id": "f3413721-56fc-44dc-a7af-3a0f25d58f7e",
   "metadata": {},
   "outputs": [],
   "source": [
    "# Define Model\n",
    "from herec.model import FM\n",
    "model = FM(\n",
    "    user_num=reader.user_num,\n",
    "    item_num=reader.item_num,\n",
    "    embedDim=hyParam.pop(\"embedDim\"),\n",
    ")\n",
    "\n",
    "# Define DataLoader for Mini-batch Optimization\n",
    "from herec.loader import ratingLoader\n",
    "\n",
    "# Train\n",
    "from herec.trainer import ratingTrainer\n",
    "trainer = ratingTrainer(model=model, dataLoader=ratingLoader, **hyParam)\n",
    "trainer.fit(reader.df_SUBSET[\"TRAIN\"], reader.df_SUBSET[\"VALID\"])"
   ]
  }
 ],
 "metadata": {
  "kernelspec": {
   "display_name": "Python 3 (ipykernel)",
   "language": "python",
   "name": "python3"
  },
  "language_info": {
   "codemirror_mode": {
    "name": "ipython",
    "version": 3
   },
   "file_extension": ".py",
   "mimetype": "text/x-python",
   "name": "python",
   "nbconvert_exporter": "python",
   "pygments_lexer": "ipython3",
   "version": "3.10.12"
  }
 },
 "nbformat": 4,
 "nbformat_minor": 5
}
