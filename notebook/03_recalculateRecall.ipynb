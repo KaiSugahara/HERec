{
 "cells": [
  {
   "cell_type": "code",
   "execution_count": 1,
   "id": "1cfed73e-f03b-4887-9141-1a88bbcffc18",
   "metadata": {},
   "outputs": [],
   "source": [
    "%load_ext autoreload"
   ]
  },
  {
   "cell_type": "code",
   "execution_count": 2,
   "id": "5286117b-0a3c-4d37-8956-154a721505db",
   "metadata": {},
   "outputs": [
    {
     "name": "stderr",
     "output_type": "stream",
     "text": [
      "WARNING:absl:Tensorflow library not found, tensorflow.io.gfile operations will use native shim calls. GCS paths (i.e. 'gs://...') cannot be accessed.\n"
     ]
    }
   ],
   "source": [
    "%autoreload 2\n",
    "\n",
    "import jax\n",
    "import jax.numpy as jnp\n",
    "import flax.linen as nn\n",
    "from tqdm import tqdm\n",
    "import polars as pl\n",
    "import pandas as pd\n",
    "import numpy as np\n",
    "import matplotlib.pyplot as plt\n",
    "plt.style.use('tableau-colorblind10')\n",
    "\n",
    "import mlflow\n",
    "from dotenv import load_dotenv\n",
    "load_dotenv(\"../.env\")\n",
    "\n",
    "import sys\n",
    "sys.path.append(\"..\")\n",
    "from herec.utils import *\n",
    "from herec.loader import *\n",
    "from herec.reader import *\n",
    "from herec.trainer import *\n",
    "from herec.model import *"
   ]
  },
  {
   "cell_type": "code",
   "execution_count": 3,
   "id": "1101b083-2e8a-4458-af1f-c655f996d13b",
   "metadata": {},
   "outputs": [],
   "source": [
    "def restoreDataAndPrediction(datasetName, modelName, seed):\n",
    "\n",
    "    if datasetName == \"Twitch100K\":\n",
    "        reader = Twitch100K()\n",
    "    if datasetName == \"ML100K_IMPLICIT\":\n",
    "        reader = ML100K_IMPLICIT()\n",
    "    if datasetName == \"ML1M_IMPLICIT\":\n",
    "        reader = ML1M_IMPLICIT()\n",
    "\n",
    "    print( f\"{datasetName}-{modelName}-TEST\", seed )\n",
    "    \n",
    "    # DATA READ\n",
    "    DATA = reader.get(seed, \"test\")\n",
    "    \n",
    "    # Run IDを取得\n",
    "    run_id = pl.from_pandas(mlflow.search_runs( experiment_names=[f\"{datasetName}-{modelName}-TEST\"] )).filter( pl.col(\"params.seed\").cast(int) == seed ).get_column(\"run_id\")[0]\n",
    "    \n",
    "    # モデルパラメータ/ハイパーパラメータを取得\n",
    "    params = restoreModelParams( run_id, -1 )\n",
    "    hyparams = restoreHyperParams( run_id )\n",
    "    \n",
    "    # モデルを取得\n",
    "    model = getModel( modelName, hyparams, DATA )\n",
    "    \n",
    "    pred_scores = model.apply({\"params\": params}, DATA[\"df_EVALUATION\"][\"user_ids\"], method=model.get_all_scores_by_user_ids)\n",
    "    topk_indices = jax.lax.top_k( pred_scores, 1000 )[1]\n",
    "\n",
    "    return DATA, topk_indices"
   ]
  },
  {
   "cell_type": "code",
   "execution_count": 4,
   "id": "3b23428d-1b43-4169-a179-44e628442d4b",
   "metadata": {},
   "outputs": [
    {
     "name": "stdout",
     "output_type": "stream",
     "text": [
      "ML100K_IMPLICIT-MF_BPR-TEST 0\n",
      "[6]\n"
     ]
    },
    {
     "data": {
      "application/vnd.jupyter.widget-view+json": {
       "model_id": "de6c3a88c4e140f9850f3d68aca27768",
       "version_major": 2,
       "version_minor": 0
      },
      "text/plain": [
       "Downloading artifacts:   0%|          | 0/1 [00:00<?, ?it/s]"
      ]
     },
     "metadata": {},
     "output_type": "display_data"
    },
    {
     "name": "stdout",
     "output_type": "stream",
     "text": [
      "ML100K_IMPLICIT-MF_BPR-TEST 1\n",
      "[8]\n"
     ]
    },
    {
     "data": {
      "application/vnd.jupyter.widget-view+json": {
       "model_id": "2a8ba4e41bce479c96443dad94c24583",
       "version_major": 2,
       "version_minor": 0
      },
      "text/plain": [
       "Downloading artifacts:   0%|          | 0/1 [00:00<?, ?it/s]"
      ]
     },
     "metadata": {},
     "output_type": "display_data"
    },
    {
     "name": "stdout",
     "output_type": "stream",
     "text": [
      "ML100K_IMPLICIT-MF_BPR-TEST 2\n",
      "[1]\n"
     ]
    },
    {
     "data": {
      "application/vnd.jupyter.widget-view+json": {
       "model_id": "014f41391739480ea952fe25a7265705",
       "version_major": 2,
       "version_minor": 0
      },
      "text/plain": [
       "Downloading artifacts:   0%|          | 0/1 [00:00<?, ?it/s]"
      ]
     },
     "metadata": {},
     "output_type": "display_data"
    },
    {
     "name": "stdout",
     "output_type": "stream",
     "text": [
      "ML100K_IMPLICIT-ProtoMF_BPR-TEST 0\n",
      "[0]\n"
     ]
    },
    {
     "data": {
      "application/vnd.jupyter.widget-view+json": {
       "model_id": "4e4dbb3766924368b9285538d763d54d",
       "version_major": 2,
       "version_minor": 0
      },
      "text/plain": [
       "Downloading artifacts:   0%|          | 0/1 [00:00<?, ?it/s]"
      ]
     },
     "metadata": {},
     "output_type": "display_data"
    },
    {
     "name": "stdout",
     "output_type": "stream",
     "text": [
      "ML100K_IMPLICIT-ProtoMF_BPR-TEST 1\n",
      "[10]\n"
     ]
    },
    {
     "data": {
      "application/vnd.jupyter.widget-view+json": {
       "model_id": "29d39c35ab0b429e8de3eec759de4b1b",
       "version_major": 2,
       "version_minor": 0
      },
      "text/plain": [
       "Downloading artifacts:   0%|          | 0/1 [00:00<?, ?it/s]"
      ]
     },
     "metadata": {},
     "output_type": "display_data"
    },
    {
     "name": "stdout",
     "output_type": "stream",
     "text": [
      "ML100K_IMPLICIT-ProtoMF_BPR-TEST 2\n",
      "[18]\n"
     ]
    },
    {
     "data": {
      "application/vnd.jupyter.widget-view+json": {
       "model_id": "d8066d80d4134334bc312a049711a705",
       "version_major": 2,
       "version_minor": 0
      },
      "text/plain": [
       "Downloading artifacts:   0%|          | 0/1 [00:00<?, ?it/s]"
      ]
     },
     "metadata": {},
     "output_type": "display_data"
    },
    {
     "name": "stdout",
     "output_type": "stream",
     "text": [
      "ML100K_IMPLICIT-HE_MF_USER_BPR-TEST 0\n",
      "[4]\n"
     ]
    },
    {
     "data": {
      "application/vnd.jupyter.widget-view+json": {
       "model_id": "9235e3cfb63641c9923528500d442427",
       "version_major": 2,
       "version_minor": 0
      },
      "text/plain": [
       "Downloading artifacts:   0%|          | 0/1 [00:00<?, ?it/s]"
      ]
     },
     "metadata": {},
     "output_type": "display_data"
    },
    {
     "name": "stdout",
     "output_type": "stream",
     "text": [
      "ML100K_IMPLICIT-HE_MF_USER_BPR-TEST 1\n",
      "[1]\n"
     ]
    },
    {
     "data": {
      "application/vnd.jupyter.widget-view+json": {
       "model_id": "1f56846013b44a4fa3c155d1e66d42d9",
       "version_major": 2,
       "version_minor": 0
      },
      "text/plain": [
       "Downloading artifacts:   0%|          | 0/1 [00:00<?, ?it/s]"
      ]
     },
     "metadata": {},
     "output_type": "display_data"
    },
    {
     "name": "stdout",
     "output_type": "stream",
     "text": [
      "ML100K_IMPLICIT-HE_MF_USER_BPR-TEST 2\n",
      "[25]\n"
     ]
    },
    {
     "data": {
      "application/vnd.jupyter.widget-view+json": {
       "model_id": "4d47b9cfd6a846968dd135ab5461760e",
       "version_major": 2,
       "version_minor": 0
      },
      "text/plain": [
       "Downloading artifacts:   0%|          | 0/1 [00:00<?, ?it/s]"
      ]
     },
     "metadata": {},
     "output_type": "display_data"
    },
    {
     "name": "stdout",
     "output_type": "stream",
     "text": [
      "ML100K_IMPLICIT-HE_MF_ITEM_BPR-TEST 0\n",
      "[37]\n"
     ]
    },
    {
     "data": {
      "application/vnd.jupyter.widget-view+json": {
       "model_id": "f9a2157fa3c34e74b8588ea1ce613fe7",
       "version_major": 2,
       "version_minor": 0
      },
      "text/plain": [
       "Downloading artifacts:   0%|          | 0/1 [00:00<?, ?it/s]"
      ]
     },
     "metadata": {},
     "output_type": "display_data"
    },
    {
     "name": "stdout",
     "output_type": "stream",
     "text": [
      "ML100K_IMPLICIT-HE_MF_ITEM_BPR-TEST 1\n",
      "[21]\n"
     ]
    },
    {
     "data": {
      "application/vnd.jupyter.widget-view+json": {
       "model_id": "e874b46fd5b1451da919311d656f5f72",
       "version_major": 2,
       "version_minor": 0
      },
      "text/plain": [
       "Downloading artifacts:   0%|          | 0/1 [00:00<?, ?it/s]"
      ]
     },
     "metadata": {},
     "output_type": "display_data"
    },
    {
     "name": "stdout",
     "output_type": "stream",
     "text": [
      "ML100K_IMPLICIT-HE_MF_ITEM_BPR-TEST 2\n",
      "[17]\n"
     ]
    },
    {
     "data": {
      "application/vnd.jupyter.widget-view+json": {
       "model_id": "e2f6d592ffe34e2dab7241c4f0dae2d9",
       "version_major": 2,
       "version_minor": 0
      },
      "text/plain": [
       "Downloading artifacts:   0%|          | 0/1 [00:00<?, ?it/s]"
      ]
     },
     "metadata": {},
     "output_type": "display_data"
    },
    {
     "name": "stdout",
     "output_type": "stream",
     "text": [
      "ML100K_IMPLICIT-HE_MF_BPR-TEST 0\n",
      "[2]\n"
     ]
    },
    {
     "data": {
      "application/vnd.jupyter.widget-view+json": {
       "model_id": "1d27e2477b8b4c94b1166ab3ae7e8413",
       "version_major": 2,
       "version_minor": 0
      },
      "text/plain": [
       "Downloading artifacts:   0%|          | 0/1 [00:00<?, ?it/s]"
      ]
     },
     "metadata": {},
     "output_type": "display_data"
    },
    {
     "name": "stdout",
     "output_type": "stream",
     "text": [
      "ML100K_IMPLICIT-HE_MF_BPR-TEST 1\n",
      "[2]\n"
     ]
    },
    {
     "data": {
      "application/vnd.jupyter.widget-view+json": {
       "model_id": "dda74191d9da4c8db17288c9f80f2769",
       "version_major": 2,
       "version_minor": 0
      },
      "text/plain": [
       "Downloading artifacts:   0%|          | 0/1 [00:00<?, ?it/s]"
      ]
     },
     "metadata": {},
     "output_type": "display_data"
    },
    {
     "name": "stdout",
     "output_type": "stream",
     "text": [
      "ML100K_IMPLICIT-HE_MF_BPR-TEST 2\n",
      "[4]\n"
     ]
    },
    {
     "data": {
      "application/vnd.jupyter.widget-view+json": {
       "model_id": "ddf736d9cd0e4146a67288bd57a0a294",
       "version_major": 2,
       "version_minor": 0
      },
      "text/plain": [
       "Downloading artifacts:   0%|          | 0/1 [00:00<?, ?it/s]"
      ]
     },
     "metadata": {},
     "output_type": "display_data"
    },
    {
     "data": {
      "image/png": "[encoded data removed]",
      "text/plain": [
       "<Figure size 640x480 with 1 Axes>"
      ]
     },
     "metadata": {},
     "output_type": "display_data"
    }
   ],
   "source": [
    "fig, ax = plt.subplots()\n",
    "\n",
    "datasetName = \"ML100K_IMPLICIT\"\n",
    "for modelName in [\"MF_BPR\", \"ProtoMF_BPR\", \"HE_MF_USER_BPR\", \"HE_MF_ITEM_BPR\", \"HE_MF_BPR\"]:\n",
    "\n",
    "    values = []\n",
    "    for seed in range(3):\n",
    "        DATA, topk_indices = restoreDataAndPrediction(datasetName, modelName, seed)\n",
    "        true_item_ids = DATA[\"df_EVALUATION\"][\"true_item_ids\"]\n",
    "        true_item_len = DATA[\"df_EVALUATION\"][\"true_item_len\"]\n",
    "        hit_flags = jax.vmap(lambda a, b: jnp.isin(a, b), in_axes=(0, 0), out_axes=(0))(topk_indices, DATA[\"df_EVALUATION\"][\"true_item_ids\"]).astype(int)\n",
    "        hit_flags_cumsum = hit_flags.cumsum(axis=1)\n",
    "        recall_at_k = (hit_flags_cumsum.T / true_item_len).T.mean(axis=0)\n",
    "        values.append( recall_at_k )\n",
    "\n",
    "    recall_at_k = sum(values) / 3\n",
    "    ax.plot( range(1, 1001), recall_at_k, label=modelName )\n",
    "\n",
    "plt.legend()\n",
    "plt.show()"
   ]
  },
  {
   "cell_type": "code",
   "execution_count": 5,
   "id": "598020ab-4a9c-474e-a565-49771ba42e94",
   "metadata": {},
   "outputs": [
    {
     "name": "stdout",
     "output_type": "stream",
     "text": [
      "ML1M_IMPLICIT-MF_BPR-TEST 0\n",
      "[18]\n"
     ]
    },
    {
     "data": {
      "application/vnd.jupyter.widget-view+json": {
       "model_id": "a2d79a3d056f4067ad113891819a7dbf",
       "version_major": 2,
       "version_minor": 0
      },
      "text/plain": [
       "Downloading artifacts:   0%|          | 0/1 [00:00<?, ?it/s]"
      ]
     },
     "metadata": {},
     "output_type": "display_data"
    },
    {
     "name": "stdout",
     "output_type": "stream",
     "text": [
      "ML1M_IMPLICIT-MF_BPR-TEST 1\n",
      "[10]\n"
     ]
    },
    {
     "data": {
      "application/vnd.jupyter.widget-view+json": {
       "model_id": "3c212e1356354eb780d148c5663ef35b",
       "version_major": 2,
       "version_minor": 0
      },
      "text/plain": [
       "Downloading artifacts:   0%|          | 0/1 [00:00<?, ?it/s]"
      ]
     },
     "metadata": {},
     "output_type": "display_data"
    },
    {
     "name": "stdout",
     "output_type": "stream",
     "text": [
      "ML1M_IMPLICIT-MF_BPR-TEST 2\n",
      "[0, 1, 2, 3, 4, 5, 6]\n"
     ]
    },
    {
     "data": {
      "application/vnd.jupyter.widget-view+json": {
       "model_id": "0cd20cda283d44a0b25e7e49d751f18e",
       "version_major": 2,
       "version_minor": 0
      },
      "text/plain": [
       "Downloading artifacts:   0%|          | 0/1 [00:00<?, ?it/s]"
      ]
     },
     "metadata": {},
     "output_type": "display_data"
    },
    {
     "name": "stdout",
     "output_type": "stream",
     "text": [
      "ML1M_IMPLICIT-HE_MF_BPR-TEST 0\n",
      "[19]\n"
     ]
    },
    {
     "data": {
      "application/vnd.jupyter.widget-view+json": {
       "model_id": "a860848544454858bc1c4717c0b01973",
       "version_major": 2,
       "version_minor": 0
      },
      "text/plain": [
       "Downloading artifacts:   0%|          | 0/1 [00:00<?, ?it/s]"
      ]
     },
     "metadata": {},
     "output_type": "display_data"
    },
    {
     "name": "stdout",
     "output_type": "stream",
     "text": [
      "ML1M_IMPLICIT-HE_MF_BPR-TEST 1\n",
      "[13]\n"
     ]
    },
    {
     "data": {
      "application/vnd.jupyter.widget-view+json": {
       "model_id": "e8cd064f9fe346d38d7f6554ee76ba29",
       "version_major": 2,
       "version_minor": 0
      },
      "text/plain": [
       "Downloading artifacts:   0%|          | 0/1 [00:00<?, ?it/s]"
      ]
     },
     "metadata": {},
     "output_type": "display_data"
    },
    {
     "name": "stdout",
     "output_type": "stream",
     "text": [
      "ML1M_IMPLICIT-HE_MF_BPR-TEST 2\n",
      "[0, 1, 2, 3, 4, 5, 6, 7, 8, 9, 10, 11, 12, 13, 14, 15, 16, 17, 18, 19, 20, 21, 22, 23, 24, 25, 26, 27, 28, 29, 30, 31, 32, 33, 34, 35, 36]\n"
     ]
    },
    {
     "data": {
      "application/vnd.jupyter.widget-view+json": {
       "model_id": "d886a170712a4b65a8335741cc66bd41",
       "version_major": 2,
       "version_minor": 0
      },
      "text/plain": [
       "Downloading artifacts:   0%|          | 0/1 [00:00<?, ?it/s]"
      ]
     },
     "metadata": {},
     "output_type": "display_data"
    },
    {
     "data": {
      "image/png": "[encoded data removed]",
      "text/plain": [
       "<Figure size 640x480 with 1 Axes>"
      ]
     },
     "metadata": {},
     "output_type": "display_data"
    }
   ],
   "source": [
    "fig, ax = plt.subplots()\n",
    "\n",
    "datasetName = \"ML1M_IMPLICIT\"\n",
    "for modelName in [\"MF_BPR\", \"HE_MF_BPR\"]:\n",
    "\n",
    "    values = []\n",
    "    for seed in range(3):\n",
    "        DATA, topk_indices = restoreDataAndPrediction(datasetName, modelName, seed)\n",
    "        true_item_ids = DATA[\"df_EVALUATION\"][\"true_item_ids\"]\n",
    "        true_item_len = DATA[\"df_EVALUATION\"][\"true_item_len\"]\n",
    "        hit_flags = jax.vmap(lambda a, b: jnp.isin(a, b), in_axes=(0, 0), out_axes=(0))(topk_indices, DATA[\"df_EVALUATION\"][\"true_item_ids\"]).astype(int)\n",
    "        hit_flags_cumsum = hit_flags.cumsum(axis=1)\n",
    "        recall_at_k = (hit_flags_cumsum.T / true_item_len).T.mean(axis=0)\n",
    "        values.append( recall_at_k )\n",
    "\n",
    "    recall_at_k = sum(values) / 3\n",
    "    ax.plot( range(1, 1001), recall_at_k, label=modelName )\n",
    "\n",
    "plt.legend()\n",
    "plt.show()"
   ]
  },
  {
   "cell_type": "code",
   "execution_count": 6,
   "id": "979b574b-8703-4f3c-996e-888549176ca9",
   "metadata": {},
   "outputs": [
    {
     "name": "stdout",
     "output_type": "stream",
     "text": [
      "Twitch100K-MF_BPR-TEST 0\n",
      "[76]\n"
     ]
    },
    {
     "data": {
      "application/vnd.jupyter.widget-view+json": {
       "model_id": "6ffaf5a1e2d748a1a9d1cf004e92dba1",
       "version_major": 2,
       "version_minor": 0
      },
      "text/plain": [
       "Downloading artifacts:   0%|          | 0/1 [00:00<?, ?it/s]"
      ]
     },
     "metadata": {},
     "output_type": "display_data"
    },
    {
     "name": "stdout",
     "output_type": "stream",
     "text": [
      "Twitch100K-MF_BPR-TEST 1\n",
      "[25]\n"
     ]
    },
    {
     "data": {
      "application/vnd.jupyter.widget-view+json": {
       "model_id": "a1bc05bf09274c39b811b5bb107bd44b",
       "version_major": 2,
       "version_minor": 0
      },
      "text/plain": [
       "Downloading artifacts:   0%|          | 0/1 [00:00<?, ?it/s]"
      ]
     },
     "metadata": {},
     "output_type": "display_data"
    },
    {
     "name": "stdout",
     "output_type": "stream",
     "text": [
      "Twitch100K-MF_BPR-TEST 2\n",
      "[6]\n"
     ]
    },
    {
     "data": {
      "application/vnd.jupyter.widget-view+json": {
       "model_id": "be40a4fc630e4a1998f1ebe4f6d6bdb1",
       "version_major": 2,
       "version_minor": 0
      },
      "text/plain": [
       "Downloading artifacts:   0%|          | 0/1 [00:00<?, ?it/s]"
      ]
     },
     "metadata": {},
     "output_type": "display_data"
    },
    {
     "name": "stdout",
     "output_type": "stream",
     "text": [
      "Twitch100K-HE_MF_BPR-TEST 0\n",
      "[76]\n"
     ]
    },
    {
     "data": {
      "application/vnd.jupyter.widget-view+json": {
       "model_id": "d50f20576ce6449699d9822d5ee0dc32",
       "version_major": 2,
       "version_minor": 0
      },
      "text/plain": [
       "Downloading artifacts:   0%|          | 0/1 [00:00<?, ?it/s]"
      ]
     },
     "metadata": {},
     "output_type": "display_data"
    },
    {
     "name": "stdout",
     "output_type": "stream",
     "text": [
      "Twitch100K-HE_MF_BPR-TEST 1\n",
      "[107]\n"
     ]
    },
    {
     "data": {
      "application/vnd.jupyter.widget-view+json": {
       "model_id": "3c0c7ec1ec6d49958cb018f716fd123a",
       "version_major": 2,
       "version_minor": 0
      },
      "text/plain": [
       "Downloading artifacts:   0%|          | 0/1 [00:00<?, ?it/s]"
      ]
     },
     "metadata": {},
     "output_type": "display_data"
    },
    {
     "name": "stdout",
     "output_type": "stream",
     "text": [
      "Twitch100K-HE_MF_BPR-TEST 2\n",
      "[0, 1, 2, 3, 4, 5, 6, 7, 8, 9, 10, 11, 12, 13, 14, 15, 16, 17, 18, 19, 20, 21, 22, 23, 24, 25, 26, 27, 28, 29, 30, 31, 32, 33, 34, 35, 36, 37, 38, 39, 40, 41, 42, 43, 44, 45, 46, 47, 48, 49, 50, 51, 52, 53]\n"
     ]
    },
    {
     "data": {
      "application/vnd.jupyter.widget-view+json": {
       "model_id": "a421797d0984431da8cc528c6d85d6d4",
       "version_major": 2,
       "version_minor": 0
      },
      "text/plain": [
       "Downloading artifacts:   0%|          | 0/1 [00:00<?, ?it/s]"
      ]
     },
     "metadata": {},
     "output_type": "display_data"
    },
    {
     "data": {
      "image/png": "[encoded data removed]",
      "text/plain": [
       "<Figure size 640x480 with 1 Axes>"
      ]
     },
     "metadata": {},
     "output_type": "display_data"
    }
   ],
   "source": [
    "fig, ax = plt.subplots()\n",
    "\n",
    "datasetName = \"Twitch100K\"\n",
    "for modelName in [\"MF_BPR\", \"HE_MF_BPR\"]:\n",
    "\n",
    "    values = []\n",
    "    for seed in range(3):\n",
    "        DATA, topk_indices = restoreDataAndPrediction(datasetName, modelName, seed)\n",
    "        true_item_ids = DATA[\"df_EVALUATION\"][\"true_item_ids\"]\n",
    "        true_item_len = DATA[\"df_EVALUATION\"][\"true_item_len\"]\n",
    "        hit_flags = jax.vmap(lambda a, b: jnp.isin(a, b), in_axes=(0, 0), out_axes=(0))(topk_indices, DATA[\"df_EVALUATION\"][\"true_item_ids\"]).astype(int)\n",
    "        hit_flags_cumsum = hit_flags.cumsum(axis=1)\n",
    "        recall_at_k = (hit_flags_cumsum.T / true_item_len).T.mean(axis=0)\n",
    "        values.append( recall_at_k )\n",
    "\n",
    "    recall_at_k = sum(values) / 3\n",
    "    ax.plot( range(1, 1001), recall_at_k, label=modelName )\n",
    "\n",
    "plt.legend()\n",
    "plt.show()"
   ]
  }
 ],
 "metadata": {
  "kernelspec": {
   "display_name": "Python 3 (ipykernel)",
   "language": "python",
   "name": "python3"
  },
  "language_info": {
   "codemirror_mode": {
    "name": "ipython",
    "version": 3
   },
   "file_extension": ".py",
   "mimetype": "text/x-python",
   "name": "python",
   "nbconvert_exporter": "python",
   "pygments_lexer": "ipython3",
   "version": "3.10.12"
  }
 },
 "nbformat": 4,
 "nbformat_minor": 5
}
