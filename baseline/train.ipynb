{
 "cells": [
  {
   "cell_type": "code",
   "execution_count": 1,
   "id": "268c3d2c-e127-4d5a-b7b5-238ff5e7187b",
   "metadata": {},
   "outputs": [
    {
     "name": "stderr",
     "output_type": "stream",
     "text": [
      "WARNING:absl:Tensorflow library not found, tensorflow.io.gfile operations will use native shim calls. GCS paths (i.e. 'gs://...') cannot be accessed.\n"
     ]
    }
   ],
   "source": [
    "import sys\n",
    "import optuna\n",
    "import numpy as np\n",
    "from scipy.sparse import csr_array\n",
    "import math\n",
    "\n",
    "sys.path.append(\"..\")\n",
    "from herec.utils import *\n",
    "\n",
    "from eTREE import eTREE\n",
    "from IHSR import IHSR\n",
    "\n",
    "from dotenv import load_dotenv\n",
    "import mlflow\n",
    "load_dotenv(\"../.env\")"
   ]
  },
  {
   "cell_type": "code",
   "execution_count": 8,
   "id": "1cfed73e-f03b-4887-9141-1a88bbcffc18",
   "metadata": {},
   "outputs": [],
   "source": [
    "class train:\n",
    "    \n",
    "    def objective(self, trial):\n",
    "\n",
    "        with mlflow.start_run(experiment_id=self.experiment_id) as run:\n",
    "\n",
    "            # Get Hyper-parameter Setting\n",
    "            hyparams = self.suggester.suggest_hyparam(trial)\n",
    "\n",
    "            self.seed\n",
    "\n",
    "            # Save Hyper-parameter to MLFlow\n",
    "            mlflow.log_params(hyparams[\"model\"])\n",
    "            mlflow.log_dict(hyparams, \"params.json\")\n",
    "\n",
    "            # Save memo to MLFlow\n",
    "            if self.memo is not None:\n",
    "                mlflow.set_tag('memo', self.memo)\n",
    "        \n",
    "            # Define Model\n",
    "            if self.modelName == \"eTREE\":\n",
    "                model = eTREE(\n",
    "                    R = hyparams[\"model\"][\"R\"],\n",
    "                    item_clusters = hyparams[\"model\"][\"item_clusters\"],\n",
    "                    lbd = hyparams[\"model\"][\"lbd\"],\n",
    "                    mu = hyparams[\"model\"][\"mu\"],\n",
    "                    eta = hyparams[\"model\"][\"eta\"],\n",
    "                    seed = self.seed,\n",
    "                    run = run,\n",
    "                )\n",
    "            elif self.modelName == \"IHSR\":\n",
    "                model = IHSR(\n",
    "                    d = hyparams[\"model\"][\"d\"],\n",
    "                    n_by_level = {**{1: hyparams[\"model\"][\"userClusterNum\"]}, **{l+1: max(math.ceil(hyparams[\"model\"][\"userClusterNum\"] / (2**l)), 1) for l in range(1, hyparams[\"model\"][\"userClusterDepth\"])}},\n",
    "                    m_by_level = {**{1: hyparams[\"model\"][\"itemClusterNum\"]}, **{l+1: max(math.ceil(hyparams[\"model\"][\"itemClusterNum\"] / (2**l)), 1) for l in range(1, hyparams[\"model\"][\"itemClusterDepth\"])}},\n",
    "                    lam = hyparams[\"model\"][\"lam\"],\n",
    "                    seed = self.seed,\n",
    "                    run = run,\n",
    "                )\n",
    "\n",
    "            print({**{1: hyparams[\"model\"][\"userClusterNum\"]}, **{l+1: max(math.ceil(hyparams[\"model\"][\"userClusterNum\"] / (2**l)), 1) for l in range(1, hyparams[\"model\"][\"userClusterDepth\"])}})\n",
    "\n",
    "            # Train\n",
    "            model.fit(self.X, self.W, self.X_VALID, self.W_VALID)\n",
    "            print()\n",
    "\n",
    "        return model.best_valid_loss\n",
    "\n",
    "    def readyMLflow(self):\n",
    "\n",
    "        load_dotenv(\".env\")\n",
    "\n",
    "        EXPERIMENT_NAME = f\"{self.datasetName}-{self.modelName}-TRAIN\"\n",
    "        if (experiment := mlflow.get_experiment_by_name(EXPERIMENT_NAME)) is None:\n",
    "            self.experiment_id = mlflow.create_experiment(name=EXPERIMENT_NAME)\n",
    "        else:\n",
    "            self.experiment_id = experiment.experiment_id\n",
    "\n",
    "        print(\"Experiment Name:\", EXPERIMENT_NAME)\n",
    "        print(\"Experiment ID:\", self.experiment_id)\n",
    "\n",
    "        return self\n",
    "\n",
    "    def __init__(self, modelName, datasetName, suggester, seed, memo=None):\n",
    "\n",
    "        \"\"\"\n",
    "            func: training and testing of specified model on a dataset\n",
    "            args:\n",
    "                modelName: name of model\n",
    "                datasetName: name of dataset\n",
    "                suggester: suggester of hyperparameter\n",
    "                seed: seed of optune and model initializer\n",
    "        \"\"\"\n",
    "\n",
    "        # Set args.\n",
    "        self.modelName = modelName\n",
    "        self.datasetName = datasetName\n",
    "        self.suggester = suggester\n",
    "        self.seed = seed\n",
    "        self.memo = memo\n",
    "\n",
    "        # Setup MLflow\n",
    "        self.readyMLflow()\n",
    "\n",
    "        # Load Dataset for Training\n",
    "        DATA = getDataset(self.datasetName, self.seed, \"train\")\n",
    "\n",
    "        # Generate Matrices\n",
    "        shape = (DATA[\"user_num\"], DATA[\"item_num\"])\n",
    "        data = DATA[\"df_TRAIN\"][\"rating\"].to_numpy()\n",
    "        row = DATA[\"df_TRAIN\"][\"user_id\"].to_numpy()\n",
    "        col = DATA[\"df_TRAIN\"][\"item_id\"].to_numpy()\n",
    "        self.X = csr_array((data, (row, col)), shape=shape).toarray()\n",
    "        self.W = np.where(self.X == 0, 0., 1.)\n",
    "        data = DATA[\"df_EVALUATION\"][\"rating\"].to_numpy()\n",
    "        row = DATA[\"df_EVALUATION\"][\"user_id\"].to_numpy()\n",
    "        col = DATA[\"df_EVALUATION\"][\"item_id\"].to_numpy()\n",
    "        self.X_VALID = csr_array((data, (row, col)), shape=shape).toarray()\n",
    "        self.W_VALID = np.where(self.X_VALID == 0, 0., 1.)\n",
    "\n",
    "        # TPE\n",
    "        study = optuna.create_study( sampler=optuna.samplers.TPESampler(seed=self.seed) )\n",
    "        study.optimize( self.objective, n_trials=100 )"
   ]
  },
  {
   "cell_type": "raw",
   "id": "069d2185-9062-4501-9b10-518122a63cd7",
   "metadata": {},
   "source": [
    "modelName, suggester = \"eTREE\", hyParamSuggester([\"../setting/model/eTREE.yaml\"])\n",
    "for datasetName in [\"ML100K\", \"ML1M\", \"Ciao_PART\", \"Ciao\", \"Yelp\"]:\n",
    "    for seed in range(3):\n",
    "        train( modelName, datasetName, suggester, seed, memo=\"des\" )"
   ]
  },
  {
   "cell_type": "code",
   "execution_count": null,
   "id": "4065c1bd-2e87-4ce0-9898-59d3b47f0f72",
   "metadata": {
    "scrolled": true
   },
   "outputs": [
    {
     "name": "stderr",
     "output_type": "stream",
     "text": [
      "[I 2023-12-29 21:28:46,367] A new study created in memory with name: no-name-f7d6fcc2-d56d-4432-a70d-b2e230e93afb\n"
     ]
    },
    {
     "name": "stdout",
     "output_type": "stream",
     "text": [
      "Experiment Name: ML100K-IHSR-TRAIN\n",
      "Experiment ID: 223\n",
      "shape of df_TRAIN: (59205, 4)\n",
      "shape of df_EVALUATION: (2224, 4)\n",
      "User #: 584\n",
      "Item #: 1507\n",
      "{1: 607, 2: 304, 3: 152}\n",
      "[Step2] done!\n",
      "[Step3-5] done!\n",
      "[Step6-8] done!\n",
      "[Step9] done!\n"
     ]
    },
    {
     "name": "stderr",
     "output_type": "stream",
     "text": [
      "[Step10-20]:   4%|▍         | 9/200 [00:14<04:57,  1.56s/it]\n"
     ]
    },
    {
     "name": "stdout",
     "output_type": "stream",
     "text": [
      "\n"
     ]
    },
    {
     "name": "stderr",
     "output_type": "stream",
     "text": [
      "[I 2023-12-29 21:29:14,455] Trial 0 finished with value: 1.4523714742063112 and parameters: {'d': 122, 'userClusterDepth': 3, 'userClusterNum': 607, 'itemClusterDepth': 2, 'itemClusterNum': 429, 'lam': 0.07505241622349541}. Best is trial 0 with value: 1.4523714742063112.\n"
     ]
    },
    {
     "name": "stdout",
     "output_type": "stream",
     "text": [
      "{1: 964, 2: 482, 3: 241}\n",
      "[Step2] done!\n",
      "[Step3-5] done!\n",
      "[Step6-8] done!\n",
      "[Step9] done!\n"
     ]
    },
    {
     "name": "stderr",
     "output_type": "stream",
     "text": [
      "[Step10-20]:   7%|▋         | 14/200 [00:20<04:27,  1.44s/it]\n"
     ]
    },
    {
     "name": "stdout",
     "output_type": "stream",
     "text": [
      "\n"
     ]
    },
    {
     "name": "stderr",
     "output_type": "stream",
     "text": [
      "[I 2023-12-29 21:29:50,659] Trial 1 finished with value: 1.5207448329408193 and parameters: {'d': 73, 'userClusterDepth': 3, 'userClusterNum': 964, 'itemClusterDepth': 2, 'itemClusterNum': 794, 'lam': 0.014906288366101634}. Best is trial 0 with value: 1.4523714742063112.\n"
     ]
    },
    {
     "name": "stdout",
     "output_type": "stream",
     "text": [
      "{1: 80, 2: 40, 3: 20}\n",
      "[Step2] done!\n",
      "[Step3-5] done!\n",
      "[Step6-8] done!\n",
      "[Step9] done!\n"
     ]
    },
    {
     "name": "stderr",
     "output_type": "stream",
     "text": [
      "[Step10-20]:   6%|▌         | 12/200 [00:18<04:56,  1.58s/it]\n"
     ]
    },
    {
     "name": "stdout",
     "output_type": "stream",
     "text": [
      "\n"
     ]
    },
    {
     "name": "stderr",
     "output_type": "stream",
     "text": [
      "[I 2023-12-29 21:30:18,608] Trial 2 finished with value: 1.1363999422010047 and parameters: {'d': 134, 'userClusterDepth': 3, 'userClusterNum': 80, 'itemClusterDepth': 1, 'itemClusterNum': 30, 'lam': 0.9901912249089659}. Best is trial 2 with value: 1.1363999422010047.\n"
     ]
    },
    {
     "name": "stdout",
     "output_type": "stream",
     "text": [
      "{1: 979, 2: 490, 3: 245}\n",
      "[Step2] done!\n",
      "[Step3-5] done!\n",
      "[Step6-8] done!\n",
      "[Step9] done!\n"
     ]
    },
    {
     "name": "stderr",
     "output_type": "stream",
     "text": [
      "[Step10-20]:  28%|██▊       | 55/200 [01:08<03:01,  1.25s/it]\n"
     ]
    },
    {
     "name": "stdout",
     "output_type": "stream",
     "text": [
      "\n"
     ]
    },
    {
     "name": "stderr",
     "output_type": "stream",
     "text": [
      "[I 2023-12-29 21:31:52,887] Trial 3 finished with value: 1.1461791629721598 and parameters: {'d': 356, 'userClusterDepth': 3, 'userClusterNum': 979, 'itemClusterDepth': 3, 'itemClusterNum': 467, 'lam': 0.48214210285277564}. Best is trial 2 with value: 1.1363999422010047.\n"
     ]
    },
    {
     "name": "stdout",
     "output_type": "stream",
     "text": [
      "{1: 152, 2: 76}\n",
      "[Step2] done!\n",
      "[Step3-5] done!\n",
      "[Step6-8] done!\n",
      "[Step9] done!\n"
     ]
    },
    {
     "name": "stderr",
     "output_type": "stream",
     "text": [
      "[Step10-20]:   8%|▊         | 15/200 [00:20<04:10,  1.35s/it]\n"
     ]
    },
    {
     "name": "stdout",
     "output_type": "stream",
     "text": [
      "\n"
     ]
    },
    {
     "name": "stderr",
     "output_type": "stream",
     "text": [
      "[I 2023-12-29 21:32:22,632] Trial 4 finished with value: 1.5137017621042341 and parameters: {'d': 16, 'userClusterDepth': 2, 'userClusterNum': 152, 'itemClusterDepth': 3, 'itemClusterNum': 527, 'lam': 0.0030758959477348562}. Best is trial 2 with value: 1.1363999422010047.\n"
     ]
    },
    {
     "name": "stdout",
     "output_type": "stream",
     "text": [
      "{1: 462, 2: 231, 3: 116}\n",
      "[Step2] done!\n",
      "[Step3-5] done!\n",
      "[Step6-8] done!\n",
      "[Step9] done!\n"
     ]
    },
    {
     "name": "stderr",
     "output_type": "stream",
     "text": [
      "[Step10-20]:   5%|▌         | 10/200 [00:14<04:40,  1.48s/it]\n"
     ]
    },
    {
     "name": "stdout",
     "output_type": "stream",
     "text": [
      "\n"
     ]
    },
    {
     "name": "stderr",
     "output_type": "stream",
     "text": [
      "[I 2023-12-29 21:32:44,362] Trial 5 finished with value: 1.2920874017101054 and parameters: {'d': 33, 'userClusterDepth': 3, 'userClusterNum': 462, 'itemClusterDepth': 2, 'itemClusterNum': 28, 'lam': 0.05079406641139767}. Best is trial 2 with value: 1.1363999422010047.\n"
     ]
    }
   ],
   "source": [
    "modelName, suggester = \"IHSR\", hyParamSuggester([\"../setting/model/IHSR.yaml\"])\n",
    "for datasetName in [\"ML100K\", \"ML1M\", \"Ciao_PART\", \"Ciao\", \"Yelp\"]:\n",
    "    for seed in range(3):\n",
    "        train( modelName, datasetName, suggester, seed, memo=\"des\" )"
   ]
  }
 ],
 "metadata": {
  "kernelspec": {
   "display_name": "Python 3 (ipykernel)",
   "language": "python",
   "name": "python3"
  },
  "language_info": {
   "codemirror_mode": {
    "name": "ipython",
    "version": 3
   },
   "file_extension": ".py",
   "mimetype": "text/x-python",
   "name": "python",
   "nbconvert_exporter": "python",
   "pygments_lexer": "ipython3",
   "version": "3.10.12"
  }
 },
 "nbformat": 4,
 "nbformat_minor": 5
}
